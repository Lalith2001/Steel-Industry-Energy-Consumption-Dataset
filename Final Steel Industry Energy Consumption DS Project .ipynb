{
 "cells": [
  {
   "cell_type": "markdown",
   "metadata": {
    "id": "0g0R8J2SEjJc"
   },
   "source": [
    "Loading Dataset & Libraries"
   ]
  },
  {
   "cell_type": "code",
   "execution_count": 1,
   "metadata": {
    "executionInfo": {
     "elapsed": 787,
     "status": "ok",
     "timestamp": 1649582929219,
     "user": {
      "displayName": "Lalith Msd7",
      "userId": "05886998925610296696"
     },
     "user_tz": -330
    },
    "id": "UomD3kC0C7zG"
   },
   "outputs": [],
   "source": [
    "#IMPORTING ESSENTIAL LIBRARIES\n",
    "\n",
    "import pandas as pd \n",
    "import numpy as np\n",
    "import matplotlib.pyplot as plt\n",
    "import seaborn as sns"
   ]
  },
  {
   "cell_type": "code",
   "execution_count": 2,
   "metadata": {
    "executionInfo": {
     "elapsed": 749,
     "status": "ok",
     "timestamp": 1649582931830,
     "user": {
      "displayName": "Lalith Msd7",
      "userId": "05886998925610296696"
     },
     "user_tz": -330
    },
    "id": "IB_1XJZwCHGQ"
   },
   "outputs": [],
   "source": [
    "#LOADING THE DATASET\n",
    "\n",
    "org_df = pd.read_csv(r\"C://Users//lalli//Desktop//Steel Industry energy consumption project//Steel_industry_data.csv\")"
   ]
  },
  {
   "cell_type": "code",
   "execution_count": 6,
   "metadata": {
    "colab": {
     "base_uri": "https://localhost:8080/",
     "height": 317
    },
    "executionInfo": {
     "elapsed": 364,
     "status": "ok",
     "timestamp": 1649583673870,
     "user": {
      "displayName": "Lalith Msd7",
      "userId": "05886998925610296696"
     },
     "user_tz": -330
    },
    "id": "juLmuW7HCZIF",
    "outputId": "f005b3a0-fd1b-45cb-91b6-90b7970077a1"
   },
   "outputs": [
    {
     "data": {
      "text/html": [
       "<div>\n",
       "<style scoped>\n",
       "    .dataframe tbody tr th:only-of-type {\n",
       "        vertical-align: middle;\n",
       "    }\n",
       "\n",
       "    .dataframe tbody tr th {\n",
       "        vertical-align: top;\n",
       "    }\n",
       "\n",
       "    .dataframe thead th {\n",
       "        text-align: right;\n",
       "    }\n",
       "</style>\n",
       "<table border=\"1\" class=\"dataframe\">\n",
       "  <thead>\n",
       "    <tr style=\"text-align: right;\">\n",
       "      <th></th>\n",
       "      <th>date</th>\n",
       "      <th>Usage_kWh</th>\n",
       "      <th>Lagging_Current_Reactive_Power_KVarh</th>\n",
       "      <th>Leading_Current_Reactive_Power_kVarh</th>\n",
       "      <th>CO2</th>\n",
       "      <th>Lagging_Current_Power_Factor</th>\n",
       "      <th>Leading_Current_Power_Factor</th>\n",
       "      <th>NSM</th>\n",
       "      <th>WeekStatus</th>\n",
       "      <th>Day_of_week</th>\n",
       "      <th>Load_Type</th>\n",
       "    </tr>\n",
       "  </thead>\n",
       "  <tbody>\n",
       "    <tr>\n",
       "      <th>0</th>\n",
       "      <td>01/01/2018 00:15</td>\n",
       "      <td>3.17</td>\n",
       "      <td>2.95</td>\n",
       "      <td>0.0</td>\n",
       "      <td>0.0</td>\n",
       "      <td>73.21</td>\n",
       "      <td>100.0</td>\n",
       "      <td>900</td>\n",
       "      <td>Weekday</td>\n",
       "      <td>Monday</td>\n",
       "      <td>Light_Load</td>\n",
       "    </tr>\n",
       "    <tr>\n",
       "      <th>1</th>\n",
       "      <td>01/01/2018 00:30</td>\n",
       "      <td>4.00</td>\n",
       "      <td>4.46</td>\n",
       "      <td>0.0</td>\n",
       "      <td>0.0</td>\n",
       "      <td>66.77</td>\n",
       "      <td>100.0</td>\n",
       "      <td>1800</td>\n",
       "      <td>Weekday</td>\n",
       "      <td>Monday</td>\n",
       "      <td>Light_Load</td>\n",
       "    </tr>\n",
       "    <tr>\n",
       "      <th>2</th>\n",
       "      <td>01/01/2018 00:45</td>\n",
       "      <td>3.24</td>\n",
       "      <td>3.28</td>\n",
       "      <td>0.0</td>\n",
       "      <td>0.0</td>\n",
       "      <td>70.28</td>\n",
       "      <td>100.0</td>\n",
       "      <td>2700</td>\n",
       "      <td>Weekday</td>\n",
       "      <td>Monday</td>\n",
       "      <td>Light_Load</td>\n",
       "    </tr>\n",
       "    <tr>\n",
       "      <th>3</th>\n",
       "      <td>01/01/2018 01:00</td>\n",
       "      <td>3.31</td>\n",
       "      <td>3.56</td>\n",
       "      <td>0.0</td>\n",
       "      <td>0.0</td>\n",
       "      <td>68.09</td>\n",
       "      <td>100.0</td>\n",
       "      <td>3600</td>\n",
       "      <td>Weekday</td>\n",
       "      <td>Monday</td>\n",
       "      <td>Light_Load</td>\n",
       "    </tr>\n",
       "    <tr>\n",
       "      <th>4</th>\n",
       "      <td>01/01/2018 01:15</td>\n",
       "      <td>3.82</td>\n",
       "      <td>4.50</td>\n",
       "      <td>0.0</td>\n",
       "      <td>0.0</td>\n",
       "      <td>64.72</td>\n",
       "      <td>100.0</td>\n",
       "      <td>4500</td>\n",
       "      <td>Weekday</td>\n",
       "      <td>Monday</td>\n",
       "      <td>Light_Load</td>\n",
       "    </tr>\n",
       "  </tbody>\n",
       "</table>\n",
       "</div>"
      ],
      "text/plain": [
       "               date  Usage_kWh  Lagging_Current_Reactive_Power_KVarh  \\\n",
       "0  01/01/2018 00:15       3.17                                  2.95   \n",
       "1  01/01/2018 00:30       4.00                                  4.46   \n",
       "2  01/01/2018 00:45       3.24                                  3.28   \n",
       "3  01/01/2018 01:00       3.31                                  3.56   \n",
       "4  01/01/2018 01:15       3.82                                  4.50   \n",
       "\n",
       "   Leading_Current_Reactive_Power_kVarh  CO2  Lagging_Current_Power_Factor  \\\n",
       "0                                   0.0  0.0                         73.21   \n",
       "1                                   0.0  0.0                         66.77   \n",
       "2                                   0.0  0.0                         70.28   \n",
       "3                                   0.0  0.0                         68.09   \n",
       "4                                   0.0  0.0                         64.72   \n",
       "\n",
       "   Leading_Current_Power_Factor   NSM WeekStatus Day_of_week   Load_Type  \n",
       "0                         100.0   900    Weekday      Monday  Light_Load  \n",
       "1                         100.0  1800    Weekday      Monday  Light_Load  \n",
       "2                         100.0  2700    Weekday      Monday  Light_Load  \n",
       "3                         100.0  3600    Weekday      Monday  Light_Load  \n",
       "4                         100.0  4500    Weekday      Monday  Light_Load  "
      ]
     },
     "execution_count": 6,
     "metadata": {},
     "output_type": "execute_result"
    }
   ],
   "source": [
    "#DATASET \n",
    "\n",
    "org_df.head()"
   ]
  },
  {
   "cell_type": "code",
   "execution_count": 5,
   "metadata": {
    "executionInfo": {
     "elapsed": 386,
     "status": "ok",
     "timestamp": 1649582937353,
     "user": {
      "displayName": "Lalith Msd7",
      "userId": "05886998925610296696"
     },
     "user_tz": -330
    },
    "id": "VOWMJ7KlCbXF"
   },
   "outputs": [],
   "source": [
    "#RENAMING few columns as they are incorrect.\n",
    "\n",
    "org_df = org_df.rename(columns = {'Lagging_Current_Reactive.Power_kVarh':'Lagging_Current_Reactive_Power_KVarh',\n",
    "                                 'CO2(tCO2)': 'CO2'})"
   ]
  },
  {
   "cell_type": "markdown",
   "metadata": {
    "id": "RZZJYAqeEiSu"
   },
   "source": [
    "Data Preprocessing(EDA)"
   ]
  },
  {
   "cell_type": "code",
   "execution_count": 7,
   "metadata": {
    "colab": {
     "base_uri": "https://localhost:8080/"
    },
    "executionInfo": {
     "elapsed": 401,
     "status": "ok",
     "timestamp": 1649588167914,
     "user": {
      "displayName": "Lalith Msd7",
      "userId": "05886998925610296696"
     },
     "user_tz": -330
    },
    "id": "aPZGqVo8CnSs",
    "outputId": "c73fd610-b209-4c9e-dce5-0f681698923d"
   },
   "outputs": [
    {
     "name": "stdout",
     "output_type": "stream",
     "text": [
      "<class 'pandas.core.frame.DataFrame'>\n",
      "RangeIndex: 35040 entries, 0 to 35039\n",
      "Data columns (total 11 columns):\n",
      " #   Column                                Non-Null Count  Dtype  \n",
      "---  ------                                --------------  -----  \n",
      " 0   date                                  35040 non-null  object \n",
      " 1   Usage_kWh                             35040 non-null  float64\n",
      " 2   Lagging_Current_Reactive_Power_KVarh  35040 non-null  float64\n",
      " 3   Leading_Current_Reactive_Power_kVarh  35040 non-null  float64\n",
      " 4   CO2                                   35040 non-null  float64\n",
      " 5   Lagging_Current_Power_Factor          35040 non-null  float64\n",
      " 6   Leading_Current_Power_Factor          35040 non-null  float64\n",
      " 7   NSM                                   35040 non-null  int64  \n",
      " 8   WeekStatus                            35040 non-null  object \n",
      " 9   Day_of_week                           35040 non-null  object \n",
      " 10  Load_Type                             35040 non-null  object \n",
      "dtypes: float64(6), int64(1), object(4)\n",
      "memory usage: 2.9+ MB\n"
     ]
    }
   ],
   "source": [
    "org_df.info()"
   ]
  },
  {
   "cell_type": "code",
   "execution_count": 8,
   "metadata": {
    "colab": {
     "base_uri": "https://localhost:8080/"
    },
    "executionInfo": {
     "elapsed": 378,
     "status": "ok",
     "timestamp": 1649588171212,
     "user": {
      "displayName": "Lalith Msd7",
      "userId": "05886998925610296696"
     },
     "user_tz": -330
    },
    "id": "Elitdj8mCrcq",
    "outputId": "405410b1-3c9c-4cfa-bde8-fade0805f3b8"
   },
   "outputs": [
    {
     "data": {
      "text/plain": [
       "Index(['date', 'Usage_kWh', 'Lagging_Current_Reactive_Power_KVarh',\n",
       "       'Leading_Current_Reactive_Power_kVarh', 'CO2',\n",
       "       'Lagging_Current_Power_Factor', 'Leading_Current_Power_Factor', 'NSM',\n",
       "       'WeekStatus', 'Day_of_week', 'Load_Type'],\n",
       "      dtype='object')"
      ]
     },
     "execution_count": 8,
     "metadata": {},
     "output_type": "execute_result"
    }
   ],
   "source": [
    "org_df.columns "
   ]
  },
  {
   "cell_type": "code",
   "execution_count": 9,
   "metadata": {
    "colab": {
     "base_uri": "https://localhost:8080/"
    },
    "executionInfo": {
     "elapsed": 353,
     "status": "ok",
     "timestamp": 1649521731651,
     "user": {
      "displayName": "Lalith Msd7",
      "userId": "05886998925610296696"
     },
     "user_tz": -330
    },
    "id": "8aR_3yn2Cr5A",
    "outputId": "f0a77bb9-4aa1-476b-c0b7-3be939a81365"
   },
   "outputs": [
    {
     "data": {
      "text/plain": [
       "11"
      ]
     },
     "execution_count": 9,
     "metadata": {},
     "output_type": "execute_result"
    }
   ],
   "source": [
    "len(org_df.columns)"
   ]
  },
  {
   "cell_type": "code",
   "execution_count": 11,
   "metadata": {
    "colab": {
     "base_uri": "https://localhost:8080/"
    },
    "executionInfo": {
     "elapsed": 399,
     "status": "ok",
     "timestamp": 1649588174039,
     "user": {
      "displayName": "Lalith Msd7",
      "userId": "05886998925610296696"
     },
     "user_tz": -330
    },
    "id": "xYHCjiPBCsWR",
    "outputId": "bf2bab81-6a19-4b19-d0ce-bf60d1e0283e"
   },
   "outputs": [
    {
     "data": {
      "text/plain": [
       "(35040, 11)"
      ]
     },
     "execution_count": 11,
     "metadata": {},
     "output_type": "execute_result"
    }
   ],
   "source": [
    "org_df.shape"
   ]
  },
  {
   "cell_type": "code",
   "execution_count": 12,
   "metadata": {
    "colab": {
     "base_uri": "https://localhost:8080/",
     "height": 364
    },
    "executionInfo": {
     "elapsed": 415,
     "status": "ok",
     "timestamp": 1649588175726,
     "user": {
      "displayName": "Lalith Msd7",
      "userId": "05886998925610296696"
     },
     "user_tz": -330
    },
    "id": "RyDFxRXWCsx6",
    "outputId": "885eb06e-d055-4e1b-8b81-29fc3bb3d561"
   },
   "outputs": [
    {
     "data": {
      "text/html": [
       "<div>\n",
       "<style scoped>\n",
       "    .dataframe tbody tr th:only-of-type {\n",
       "        vertical-align: middle;\n",
       "    }\n",
       "\n",
       "    .dataframe tbody tr th {\n",
       "        vertical-align: top;\n",
       "    }\n",
       "\n",
       "    .dataframe thead th {\n",
       "        text-align: right;\n",
       "    }\n",
       "</style>\n",
       "<table border=\"1\" class=\"dataframe\">\n",
       "  <thead>\n",
       "    <tr style=\"text-align: right;\">\n",
       "      <th></th>\n",
       "      <th>Usage_kWh</th>\n",
       "      <th>Lagging_Current_Reactive_Power_KVarh</th>\n",
       "      <th>Leading_Current_Reactive_Power_kVarh</th>\n",
       "      <th>CO2</th>\n",
       "      <th>Lagging_Current_Power_Factor</th>\n",
       "      <th>Leading_Current_Power_Factor</th>\n",
       "      <th>NSM</th>\n",
       "    </tr>\n",
       "  </thead>\n",
       "  <tbody>\n",
       "    <tr>\n",
       "      <th>count</th>\n",
       "      <td>35040.000000</td>\n",
       "      <td>35040.000000</td>\n",
       "      <td>35040.000000</td>\n",
       "      <td>35040.000000</td>\n",
       "      <td>35040.000000</td>\n",
       "      <td>35040.000000</td>\n",
       "      <td>35040.000000</td>\n",
       "    </tr>\n",
       "    <tr>\n",
       "      <th>mean</th>\n",
       "      <td>27.386892</td>\n",
       "      <td>13.035384</td>\n",
       "      <td>3.870949</td>\n",
       "      <td>0.011524</td>\n",
       "      <td>80.578056</td>\n",
       "      <td>84.367870</td>\n",
       "      <td>42750.000000</td>\n",
       "    </tr>\n",
       "    <tr>\n",
       "      <th>std</th>\n",
       "      <td>33.444380</td>\n",
       "      <td>16.306000</td>\n",
       "      <td>7.424463</td>\n",
       "      <td>0.016151</td>\n",
       "      <td>18.921322</td>\n",
       "      <td>30.456535</td>\n",
       "      <td>24940.534317</td>\n",
       "    </tr>\n",
       "    <tr>\n",
       "      <th>min</th>\n",
       "      <td>0.000000</td>\n",
       "      <td>0.000000</td>\n",
       "      <td>0.000000</td>\n",
       "      <td>0.000000</td>\n",
       "      <td>0.000000</td>\n",
       "      <td>0.000000</td>\n",
       "      <td>0.000000</td>\n",
       "    </tr>\n",
       "    <tr>\n",
       "      <th>25%</th>\n",
       "      <td>3.200000</td>\n",
       "      <td>2.300000</td>\n",
       "      <td>0.000000</td>\n",
       "      <td>0.000000</td>\n",
       "      <td>63.320000</td>\n",
       "      <td>99.700000</td>\n",
       "      <td>21375.000000</td>\n",
       "    </tr>\n",
       "    <tr>\n",
       "      <th>50%</th>\n",
       "      <td>4.570000</td>\n",
       "      <td>5.000000</td>\n",
       "      <td>0.000000</td>\n",
       "      <td>0.000000</td>\n",
       "      <td>87.960000</td>\n",
       "      <td>100.000000</td>\n",
       "      <td>42750.000000</td>\n",
       "    </tr>\n",
       "    <tr>\n",
       "      <th>75%</th>\n",
       "      <td>51.237500</td>\n",
       "      <td>22.640000</td>\n",
       "      <td>2.090000</td>\n",
       "      <td>0.020000</td>\n",
       "      <td>99.022500</td>\n",
       "      <td>100.000000</td>\n",
       "      <td>64125.000000</td>\n",
       "    </tr>\n",
       "    <tr>\n",
       "      <th>max</th>\n",
       "      <td>157.180000</td>\n",
       "      <td>96.910000</td>\n",
       "      <td>27.760000</td>\n",
       "      <td>0.070000</td>\n",
       "      <td>100.000000</td>\n",
       "      <td>100.000000</td>\n",
       "      <td>85500.000000</td>\n",
       "    </tr>\n",
       "  </tbody>\n",
       "</table>\n",
       "</div>"
      ],
      "text/plain": [
       "          Usage_kWh  Lagging_Current_Reactive_Power_KVarh  \\\n",
       "count  35040.000000                          35040.000000   \n",
       "mean      27.386892                             13.035384   \n",
       "std       33.444380                             16.306000   \n",
       "min        0.000000                              0.000000   \n",
       "25%        3.200000                              2.300000   \n",
       "50%        4.570000                              5.000000   \n",
       "75%       51.237500                             22.640000   \n",
       "max      157.180000                             96.910000   \n",
       "\n",
       "       Leading_Current_Reactive_Power_kVarh           CO2  \\\n",
       "count                          35040.000000  35040.000000   \n",
       "mean                               3.870949      0.011524   \n",
       "std                                7.424463      0.016151   \n",
       "min                                0.000000      0.000000   \n",
       "25%                                0.000000      0.000000   \n",
       "50%                                0.000000      0.000000   \n",
       "75%                                2.090000      0.020000   \n",
       "max                               27.760000      0.070000   \n",
       "\n",
       "       Lagging_Current_Power_Factor  Leading_Current_Power_Factor  \\\n",
       "count                  35040.000000                  35040.000000   \n",
       "mean                      80.578056                     84.367870   \n",
       "std                       18.921322                     30.456535   \n",
       "min                        0.000000                      0.000000   \n",
       "25%                       63.320000                     99.700000   \n",
       "50%                       87.960000                    100.000000   \n",
       "75%                       99.022500                    100.000000   \n",
       "max                      100.000000                    100.000000   \n",
       "\n",
       "                NSM  \n",
       "count  35040.000000  \n",
       "mean   42750.000000  \n",
       "std    24940.534317  \n",
       "min        0.000000  \n",
       "25%    21375.000000  \n",
       "50%    42750.000000  \n",
       "75%    64125.000000  \n",
       "max    85500.000000  "
      ]
     },
     "execution_count": 12,
     "metadata": {},
     "output_type": "execute_result"
    }
   ],
   "source": [
    "org_df.describe()"
   ]
  },
  {
   "cell_type": "code",
   "execution_count": 13,
   "metadata": {
    "colab": {
     "base_uri": "https://localhost:8080/"
    },
    "executionInfo": {
     "elapsed": 535,
     "status": "ok",
     "timestamp": 1649588183208,
     "user": {
      "displayName": "Lalith Msd7",
      "userId": "05886998925610296696"
     },
     "user_tz": -330
    },
    "id": "wQZjficVI8Qq",
    "outputId": "f960b663-05e6-432a-be9c-4c73dd2e9066"
   },
   "outputs": [
    {
     "name": "stdout",
     "output_type": "stream",
     "text": [
      "MAX Energy used:  157.18\n",
      "MIN Energy used:  0.0\n",
      "AVG Energy used:  27.386892408677415\n"
     ]
    }
   ],
   "source": [
    "print(\"MAX Energy used: \",org_df.Usage_kWh.max())\n",
    "print(\"MIN Energy used: \",org_df.Usage_kWh.min())\n",
    "print(\"AVG Energy used: \",org_df.Usage_kWh.mean())\n"
   ]
  },
  {
   "cell_type": "code",
   "execution_count": 14,
   "metadata": {
    "colab": {
     "base_uri": "https://localhost:8080/"
    },
    "executionInfo": {
     "elapsed": 378,
     "status": "ok",
     "timestamp": 1649588185451,
     "user": {
      "displayName": "Lalith Msd7",
      "userId": "05886998925610296696"
     },
     "user_tz": -330
    },
    "id": "T-ks3_oeFrHB",
    "outputId": "9d5d7a91-10e2-4f70-d164-b4c65976e6c1"
   },
   "outputs": [
    {
     "data": {
      "text/plain": [
       "date                                    0\n",
       "Usage_kWh                               0\n",
       "Lagging_Current_Reactive_Power_KVarh    0\n",
       "Leading_Current_Reactive_Power_kVarh    0\n",
       "CO2                                     0\n",
       "Lagging_Current_Power_Factor            0\n",
       "Leading_Current_Power_Factor            0\n",
       "NSM                                     0\n",
       "WeekStatus                              0\n",
       "Day_of_week                             0\n",
       "Load_Type                               0\n",
       "dtype: int64"
      ]
     },
     "execution_count": 14,
     "metadata": {},
     "output_type": "execute_result"
    }
   ],
   "source": [
    "org_df.isna().sum()  #there no missing data in the Dataset"
   ]
  },
  {
   "cell_type": "code",
   "execution_count": 15,
   "metadata": {
    "colab": {
     "base_uri": "https://localhost:8080/",
     "height": 333
    },
    "executionInfo": {
     "elapsed": 393,
     "status": "ok",
     "timestamp": 1649588187638,
     "user": {
      "displayName": "Lalith Msd7",
      "userId": "05886998925610296696"
     },
     "user_tz": -330
    },
    "id": "8Kc3Hb-FFvj9",
    "outputId": "c3e2d7ee-8a97-483b-f3f9-b8b724bd8861"
   },
   "outputs": [
    {
     "data": {
      "text/html": [
       "<div>\n",
       "<style scoped>\n",
       "    .dataframe tbody tr th:only-of-type {\n",
       "        vertical-align: middle;\n",
       "    }\n",
       "\n",
       "    .dataframe tbody tr th {\n",
       "        vertical-align: top;\n",
       "    }\n",
       "\n",
       "    .dataframe thead th {\n",
       "        text-align: right;\n",
       "    }\n",
       "</style>\n",
       "<table border=\"1\" class=\"dataframe\">\n",
       "  <thead>\n",
       "    <tr style=\"text-align: right;\">\n",
       "      <th></th>\n",
       "      <th>Usage_kWh</th>\n",
       "      <th>Lagging_Current_Reactive_Power_KVarh</th>\n",
       "      <th>Leading_Current_Reactive_Power_kVarh</th>\n",
       "      <th>CO2</th>\n",
       "      <th>Lagging_Current_Power_Factor</th>\n",
       "      <th>Leading_Current_Power_Factor</th>\n",
       "      <th>NSM</th>\n",
       "    </tr>\n",
       "  </thead>\n",
       "  <tbody>\n",
       "    <tr>\n",
       "      <th>Usage_kWh</th>\n",
       "      <td>1.000000</td>\n",
       "      <td>0.896150</td>\n",
       "      <td>-0.324922</td>\n",
       "      <td>0.988180</td>\n",
       "      <td>0.385960</td>\n",
       "      <td>0.353566</td>\n",
       "      <td>0.234610</td>\n",
       "    </tr>\n",
       "    <tr>\n",
       "      <th>Lagging_Current_Reactive_Power_KVarh</th>\n",
       "      <td>0.896150</td>\n",
       "      <td>1.000000</td>\n",
       "      <td>-0.405142</td>\n",
       "      <td>0.886948</td>\n",
       "      <td>0.144534</td>\n",
       "      <td>0.407716</td>\n",
       "      <td>0.082662</td>\n",
       "    </tr>\n",
       "    <tr>\n",
       "      <th>Leading_Current_Reactive_Power_kVarh</th>\n",
       "      <td>-0.324922</td>\n",
       "      <td>-0.405142</td>\n",
       "      <td>1.000000</td>\n",
       "      <td>-0.332777</td>\n",
       "      <td>0.526770</td>\n",
       "      <td>-0.944039</td>\n",
       "      <td>0.371605</td>\n",
       "    </tr>\n",
       "    <tr>\n",
       "      <th>CO2</th>\n",
       "      <td>0.988180</td>\n",
       "      <td>0.886948</td>\n",
       "      <td>-0.332777</td>\n",
       "      <td>1.000000</td>\n",
       "      <td>0.379605</td>\n",
       "      <td>0.360019</td>\n",
       "      <td>0.231726</td>\n",
       "    </tr>\n",
       "    <tr>\n",
       "      <th>Lagging_Current_Power_Factor</th>\n",
       "      <td>0.385960</td>\n",
       "      <td>0.144534</td>\n",
       "      <td>0.526770</td>\n",
       "      <td>0.379605</td>\n",
       "      <td>1.000000</td>\n",
       "      <td>-0.519967</td>\n",
       "      <td>0.565270</td>\n",
       "    </tr>\n",
       "    <tr>\n",
       "      <th>Leading_Current_Power_Factor</th>\n",
       "      <td>0.353566</td>\n",
       "      <td>0.407716</td>\n",
       "      <td>-0.944039</td>\n",
       "      <td>0.360019</td>\n",
       "      <td>-0.519967</td>\n",
       "      <td>1.000000</td>\n",
       "      <td>-0.360563</td>\n",
       "    </tr>\n",
       "    <tr>\n",
       "      <th>NSM</th>\n",
       "      <td>0.234610</td>\n",
       "      <td>0.082662</td>\n",
       "      <td>0.371605</td>\n",
       "      <td>0.231726</td>\n",
       "      <td>0.565270</td>\n",
       "      <td>-0.360563</td>\n",
       "      <td>1.000000</td>\n",
       "    </tr>\n",
       "  </tbody>\n",
       "</table>\n",
       "</div>"
      ],
      "text/plain": [
       "                                      Usage_kWh  \\\n",
       "Usage_kWh                              1.000000   \n",
       "Lagging_Current_Reactive_Power_KVarh   0.896150   \n",
       "Leading_Current_Reactive_Power_kVarh  -0.324922   \n",
       "CO2                                    0.988180   \n",
       "Lagging_Current_Power_Factor           0.385960   \n",
       "Leading_Current_Power_Factor           0.353566   \n",
       "NSM                                    0.234610   \n",
       "\n",
       "                                      Lagging_Current_Reactive_Power_KVarh  \\\n",
       "Usage_kWh                                                         0.896150   \n",
       "Lagging_Current_Reactive_Power_KVarh                              1.000000   \n",
       "Leading_Current_Reactive_Power_kVarh                             -0.405142   \n",
       "CO2                                                               0.886948   \n",
       "Lagging_Current_Power_Factor                                      0.144534   \n",
       "Leading_Current_Power_Factor                                      0.407716   \n",
       "NSM                                                               0.082662   \n",
       "\n",
       "                                      Leading_Current_Reactive_Power_kVarh  \\\n",
       "Usage_kWh                                                        -0.324922   \n",
       "Lagging_Current_Reactive_Power_KVarh                             -0.405142   \n",
       "Leading_Current_Reactive_Power_kVarh                              1.000000   \n",
       "CO2                                                              -0.332777   \n",
       "Lagging_Current_Power_Factor                                      0.526770   \n",
       "Leading_Current_Power_Factor                                     -0.944039   \n",
       "NSM                                                               0.371605   \n",
       "\n",
       "                                           CO2  Lagging_Current_Power_Factor  \\\n",
       "Usage_kWh                             0.988180                      0.385960   \n",
       "Lagging_Current_Reactive_Power_KVarh  0.886948                      0.144534   \n",
       "Leading_Current_Reactive_Power_kVarh -0.332777                      0.526770   \n",
       "CO2                                   1.000000                      0.379605   \n",
       "Lagging_Current_Power_Factor          0.379605                      1.000000   \n",
       "Leading_Current_Power_Factor          0.360019                     -0.519967   \n",
       "NSM                                   0.231726                      0.565270   \n",
       "\n",
       "                                      Leading_Current_Power_Factor       NSM  \n",
       "Usage_kWh                                                 0.353566  0.234610  \n",
       "Lagging_Current_Reactive_Power_KVarh                      0.407716  0.082662  \n",
       "Leading_Current_Reactive_Power_kVarh                     -0.944039  0.371605  \n",
       "CO2                                                       0.360019  0.231726  \n",
       "Lagging_Current_Power_Factor                             -0.519967  0.565270  \n",
       "Leading_Current_Power_Factor                              1.000000 -0.360563  \n",
       "NSM                                                      -0.360563  1.000000  "
      ]
     },
     "execution_count": 15,
     "metadata": {},
     "output_type": "execute_result"
    }
   ],
   "source": [
    "org_df.corr()  #Correlation matrix"
   ]
  },
  {
   "cell_type": "code",
   "execution_count": 16,
   "metadata": {
    "colab": {
     "base_uri": "https://localhost:8080/",
     "height": 644
    },
    "executionInfo": {
     "elapsed": 1698,
     "status": "ok",
     "timestamp": 1649588192040,
     "user": {
      "displayName": "Lalith Msd7",
      "userId": "05886998925610296696"
     },
     "user_tz": -330
    },
    "id": "RcNGdP_TFz3J",
    "outputId": "8493edd5-98bf-4fb6-8b38-cbe43e46cee9"
   },
   "outputs": [
    {
     "data": {
      "image/png": "[encoded data removed]",
      "text/plain": [
       "<Figure size 648x504 with 2 Axes>"
      ]
     },
     "metadata": {
      "needs_background": "light"
     },
     "output_type": "display_data"
    }
   ],
   "source": [
    "#DATA VISUALIZATION\n",
    "\n",
    "plt.figure(figsize = (9,7))\n",
    "sns.heatmap(org_df.corr(),annot = True)\n",
    "plt.title(\"Correlation Matrix\", fontsize = 17, pad = 12, loc = 'center', color = 'b')\n",
    "plt.show()"
   ]
  },
  {
   "cell_type": "code",
   "execution_count": 17,
   "metadata": {
    "executionInfo": {
     "elapsed": 364,
     "status": "ok",
     "timestamp": 1649588207726,
     "user": {
      "displayName": "Lalith Msd7",
      "userId": "05886998925610296696"
     },
     "user_tz": -330
    },
    "id": "J_AOyoI_GKjW"
   },
   "outputs": [],
   "source": [
    "mst_eng_cnmpt = pd.pivot_table(org_df,index = 'date', values = 'Usage_kWh'\n",
    "                              , aggfunc={'Usage_kWh':np.max})"
   ]
  },
  {
   "cell_type": "code",
   "execution_count": 18,
   "metadata": {
    "colab": {
     "base_uri": "https://localhost:8080/",
     "height": 454
    },
    "executionInfo": {
     "elapsed": 369,
     "status": "ok",
     "timestamp": 1649588211425,
     "user": {
      "displayName": "Lalith Msd7",
      "userId": "05886998925610296696"
     },
     "user_tz": -330
    },
    "id": "Cyjkmi5hGokU",
    "outputId": "d3867626-79fb-4238-e03b-b9613dbbe3da"
   },
   "outputs": [
    {
     "data": {
      "text/html": [
       "<div>\n",
       "<style scoped>\n",
       "    .dataframe tbody tr th:only-of-type {\n",
       "        vertical-align: middle;\n",
       "    }\n",
       "\n",
       "    .dataframe tbody tr th {\n",
       "        vertical-align: top;\n",
       "    }\n",
       "\n",
       "    .dataframe thead th {\n",
       "        text-align: right;\n",
       "    }\n",
       "</style>\n",
       "<table border=\"1\" class=\"dataframe\">\n",
       "  <thead>\n",
       "    <tr style=\"text-align: right;\">\n",
       "      <th></th>\n",
       "      <th>Usage_kWh</th>\n",
       "    </tr>\n",
       "    <tr>\n",
       "      <th>date</th>\n",
       "      <th></th>\n",
       "    </tr>\n",
       "  </thead>\n",
       "  <tbody>\n",
       "    <tr>\n",
       "      <th>01/01/2018 00:00</th>\n",
       "      <td>3.42</td>\n",
       "    </tr>\n",
       "    <tr>\n",
       "      <th>01/01/2018 00:15</th>\n",
       "      <td>3.17</td>\n",
       "    </tr>\n",
       "    <tr>\n",
       "      <th>01/01/2018 00:30</th>\n",
       "      <td>4.00</td>\n",
       "    </tr>\n",
       "    <tr>\n",
       "      <th>01/01/2018 00:45</th>\n",
       "      <td>3.24</td>\n",
       "    </tr>\n",
       "    <tr>\n",
       "      <th>01/01/2018 01:00</th>\n",
       "      <td>3.31</td>\n",
       "    </tr>\n",
       "    <tr>\n",
       "      <th>...</th>\n",
       "      <td>...</td>\n",
       "    </tr>\n",
       "    <tr>\n",
       "      <th>31/12/2018 22:45</th>\n",
       "      <td>3.82</td>\n",
       "    </tr>\n",
       "    <tr>\n",
       "      <th>31/12/2018 23:00</th>\n",
       "      <td>3.85</td>\n",
       "    </tr>\n",
       "    <tr>\n",
       "      <th>31/12/2018 23:15</th>\n",
       "      <td>3.74</td>\n",
       "    </tr>\n",
       "    <tr>\n",
       "      <th>31/12/2018 23:30</th>\n",
       "      <td>3.78</td>\n",
       "    </tr>\n",
       "    <tr>\n",
       "      <th>31/12/2018 23:45</th>\n",
       "      <td>3.78</td>\n",
       "    </tr>\n",
       "  </tbody>\n",
       "</table>\n",
       "<p>35040 rows × 1 columns</p>\n",
       "</div>"
      ],
      "text/plain": [
       "                  Usage_kWh\n",
       "date                       \n",
       "01/01/2018 00:00       3.42\n",
       "01/01/2018 00:15       3.17\n",
       "01/01/2018 00:30       4.00\n",
       "01/01/2018 00:45       3.24\n",
       "01/01/2018 01:00       3.31\n",
       "...                     ...\n",
       "31/12/2018 22:45       3.82\n",
       "31/12/2018 23:00       3.85\n",
       "31/12/2018 23:15       3.74\n",
       "31/12/2018 23:30       3.78\n",
       "31/12/2018 23:45       3.78\n",
       "\n",
       "[35040 rows x 1 columns]"
      ]
     },
     "execution_count": 18,
     "metadata": {},
     "output_type": "execute_result"
    }
   ],
   "source": [
    "mst_eng_cnmpt"
   ]
  },
  {
   "cell_type": "code",
   "execution_count": 19,
   "metadata": {
    "colab": {
     "base_uri": "https://localhost:8080/",
     "height": 526
    },
    "executionInfo": {
     "elapsed": 649,
     "status": "ok",
     "timestamp": 1649588214937,
     "user": {
      "displayName": "Lalith Msd7",
      "userId": "05886998925610296696"
     },
     "user_tz": -330
    },
    "id": "1x-tvLquHRUC",
    "outputId": "df66bee6-7ca4-4432-a9e0-4cff457f936f"
   },
   "outputs": [
    {
     "data": {
      "image/png": "[encoded data removed]",
      "text/plain": [
       "<Figure size 936x504 with 1 Axes>"
      ]
     },
     "metadata": {
      "needs_background": "light"
     },
     "output_type": "display_data"
    }
   ],
   "source": [
    "plt.rcParams['figure.figsize'] = (13,7)\n",
    "graph_1 = mst_eng_cnmpt[:35040].sort_values(by = 'Usage_kWh', ascending = False).plot(color='green', linestyle='dashed')\n",
    "graph_1.set_xticklabels(graph_1.get_xticklabels(), rotation = 45)\n",
    "plt.title('The Most Energy Consumption', fontsize = 15, color = 'b', loc = 'center', pad = 12)\n",
    "plt.xlabel('Date')\n",
    "plt.ylabel('Energy Consumption')\n",
    "plt.show()"
   ]
  },
  {
   "cell_type": "code",
   "execution_count": 20,
   "metadata": {
    "colab": {
     "base_uri": "https://localhost:8080/"
    },
    "executionInfo": {
     "elapsed": 1159,
     "status": "ok",
     "timestamp": 1649588233126,
     "user": {
      "displayName": "Lalith Msd7",
      "userId": "05886998925610296696"
     },
     "user_tz": -330
    },
    "id": "zS96CnFFIc-Q",
    "outputId": "bb9adc17-e1aa-4cdb-9ada-a162251cad05"
   },
   "outputs": [
    {
     "name": "stdout",
     "output_type": "stream",
     "text": [
      "{'2018'}\n"
     ]
    }
   ],
   "source": [
    "Year=[]\n",
    "for i in range(35040):\n",
    "    Year.append(org_df.date.values[1][6:10])\n",
    "new_set = set(Year)\n",
    "print(new_set)                         #data belongs to the year 2018."
   ]
  },
  {
   "cell_type": "code",
   "execution_count": 22,
   "metadata": {
    "colab": {
     "base_uri": "https://localhost:8080/",
     "height": 568
    },
    "executionInfo": {
     "elapsed": 5347,
     "status": "ok",
     "timestamp": 1649588247939,
     "user": {
      "displayName": "Lalith Msd7",
      "userId": "05886998925610296696"
     },
     "user_tz": -330
    },
    "id": "Blsmh308JQpP",
    "outputId": "8f9f0489-f9d3-4122-e3ec-1928f870f4ca"
   },
   "outputs": [
    {
     "data": {
      "text/plain": [
       "Text(0.5, 1.0, 'pairplot')"
      ]
     },
     "execution_count": 22,
     "metadata": {},
     "output_type": "execute_result"
    },
    {
     "data": {
      "image/png": "[encoded data removed]",
      "text/plain": [
       "<Figure size 540x540 with 12 Axes>"
      ]
     },
     "metadata": {
      "needs_background": "light"
     },
     "output_type": "display_data"
    }
   ],
   "source": [
    "sns.pairplot(org_df, x_vars=[\"Usage_kWh\", \"Lagging_Current_Reactive_Power_KVarh\", \"CO2\"],\n",
    "    y_vars=[\"Usage_kWh\", \"Lagging_Current_Reactive_Power_KVarh\", \"CO2\"])\n",
    "plt.title(\"pairplot\")"
   ]
  },
  {
   "cell_type": "code",
   "execution_count": 23,
   "metadata": {
    "colab": {
     "base_uri": "https://localhost:8080/",
     "height": 426
    },
    "executionInfo": {
     "elapsed": 1247,
     "status": "ok",
     "timestamp": 1649588252602,
     "user": {
      "displayName": "Lalith Msd7",
      "userId": "05886998925610296696"
     },
     "user_tz": -330
    },
    "id": "a0iyhetqJcj-",
    "outputId": "b10b01cb-49dd-4f20-9950-6c6ce4a81bae"
   },
   "outputs": [
    {
     "name": "stderr",
     "output_type": "stream",
     "text": [
      "E:\\anaconda\\lib\\site-packages\\seaborn\\distributions.py:2557: FutureWarning: `distplot` is a deprecated function and will be removed in a future version. Please adapt your code to use either `displot` (a figure-level function with similar flexibility) or `histplot` (an axes-level function for histograms).\n",
      "  warnings.warn(msg, FutureWarning)\n"
     ]
    },
    {
     "data": {
      "text/plain": [
       "Text(0.5, 1.0, 'Energy Usage Distribution')"
      ]
     },
     "execution_count": 23,
     "metadata": {},
     "output_type": "execute_result"
    },
    {
     "data": {
      "image/png": "[encoded data removed]",
      "text/plain": [
       "<Figure size 360x360 with 1 Axes>"
      ]
     },
     "metadata": {
      "needs_background": "light"
     },
     "output_type": "display_data"
    }
   ],
   "source": [
    "plt.rcParams['figure.figsize'] = (5,5)\n",
    "sns.distplot(org_df[\"Usage_kWh\"])\n",
    "plt.title(\"Energy Usage Distribution\")"
   ]
  },
  {
   "cell_type": "code",
   "execution_count": 25,
   "metadata": {
    "colab": {
     "base_uri": "https://localhost:8080/",
     "height": 548
    },
    "executionInfo": {
     "elapsed": 1339,
     "status": "ok",
     "timestamp": 1649588256711,
     "user": {
      "displayName": "Lalith Msd7",
      "userId": "05886998925610296696"
     },
     "user_tz": -330
    },
    "id": "GaCMRgqcJk89",
    "outputId": "36a8609c-0c1d-4123-9fb2-18555e0648e7"
   },
   "outputs": [
    {
     "data": {
      "image/png": "[encoded data removed]",
      "text/plain": [
       "<Figure size 360x360 with 1 Axes>"
      ]
     },
     "metadata": {
      "needs_background": "light"
     },
     "output_type": "display_data"
    }
   ],
   "source": [
    "#box-plot to find out the outliers\n",
    "graph_2 = org_df.boxplot(column = ['Usage_kWh', 'Lagging_Current_Reactive_Power_KVarh', 'Leading_Current_Reactive_Power_kVarh',\n",
    "                    'CO2', 'Lagging_Current_Power_Factor', 'Leading_Current_Power_Factor'])\n",
    "graph_2.set_xticklabels(graph_2.get_xticklabels(), rotation = 85)\n",
    "plt.title('Factors of Energy Consumption in the Steel Industry', fontsize = 17, color = 'b', pad = 12)\n",
    "plt.xlabel('Factors')\n",
    "plt.ylabel('Qantity')\n",
    "plt.show()"
   ]
  },
  {
   "cell_type": "code",
   "execution_count": 26,
   "metadata": {
    "colab": {
     "base_uri": "https://localhost:8080/",
     "height": 243
    },
    "executionInfo": {
     "elapsed": 388,
     "status": "ok",
     "timestamp": 1649588260014,
     "user": {
      "displayName": "Lalith Msd7",
      "userId": "05886998925610296696"
     },
     "user_tz": -330
    },
    "id": "lqu_YSWMJ4lw",
    "outputId": "e87bac40-816c-472e-8362-e527fa36494f"
   },
   "outputs": [
    {
     "data": {
      "text/plain": [
       "Text(0.5, 0, 'NSM')"
      ]
     },
     "execution_count": 26,
     "metadata": {},
     "output_type": "execute_result"
    },
    {
     "data": {
      "image/png": "[encoded data removed]",
      "text/plain": [
       "<Figure size 216x216 with 1 Axes>"
      ]
     },
     "metadata": {
      "needs_background": "light"
     },
     "output_type": "display_data"
    }
   ],
   "source": [
    "plt.rcParams['figure.figsize'] = (3,3)\n",
    "plt.boxplot(org_df[\"NSM\"])\n",
    "plt.xlabel('NSM')   #as it is having higher values\n"
   ]
  },
  {
   "cell_type": "code",
   "execution_count": 27,
   "metadata": {
    "colab": {
     "base_uri": "https://localhost:8080/",
     "height": 738
    },
    "executionInfo": {
     "elapsed": 411,
     "status": "ok",
     "timestamp": 1649588274516,
     "user": {
      "displayName": "Lalith Msd7",
      "userId": "05886998925610296696"
     },
     "user_tz": -330
    },
    "id": "xln1tJauKk4e",
    "outputId": "1a69fc2e-2fe6-43fa-b1bb-a6315680088e"
   },
   "outputs": [
    {
     "data": {
      "text/html": [
       "<div>\n",
       "<style scoped>\n",
       "    .dataframe tbody tr th:only-of-type {\n",
       "        vertical-align: middle;\n",
       "    }\n",
       "\n",
       "    .dataframe tbody tr th {\n",
       "        vertical-align: top;\n",
       "    }\n",
       "\n",
       "    .dataframe thead th {\n",
       "        text-align: right;\n",
       "    }\n",
       "</style>\n",
       "<table border=\"1\" class=\"dataframe\">\n",
       "  <thead>\n",
       "    <tr style=\"text-align: right;\">\n",
       "      <th></th>\n",
       "      <th></th>\n",
       "      <th></th>\n",
       "      <th>Lagging_Current_Reactive_Power_KVarh</th>\n",
       "      <th>NSM</th>\n",
       "      <th>Usage_kWh</th>\n",
       "    </tr>\n",
       "    <tr>\n",
       "      <th>Load_Type</th>\n",
       "      <th>Day_of_week</th>\n",
       "      <th>WeekStatus</th>\n",
       "      <th></th>\n",
       "      <th></th>\n",
       "      <th></th>\n",
       "    </tr>\n",
       "  </thead>\n",
       "  <tbody>\n",
       "    <tr>\n",
       "      <th rowspan=\"7\" valign=\"top\">Light_Load</th>\n",
       "      <th>Friday</th>\n",
       "      <th>Weekday</th>\n",
       "      <td>9.553011</td>\n",
       "      <td>23206.204380</td>\n",
       "      <td>11.361442</td>\n",
       "    </tr>\n",
       "    <tr>\n",
       "      <th>Monday</th>\n",
       "      <th>Weekday</th>\n",
       "      <td>7.635354</td>\n",
       "      <td>24026.223776</td>\n",
       "      <td>8.805459</td>\n",
       "    </tr>\n",
       "    <tr>\n",
       "      <th>Saturday</th>\n",
       "      <th>Weekend</th>\n",
       "      <td>5.402193</td>\n",
       "      <td>31381.843575</td>\n",
       "      <td>7.072210</td>\n",
       "    </tr>\n",
       "    <tr>\n",
       "      <th>Sunday</th>\n",
       "      <th>Weekend</th>\n",
       "      <td>2.848329</td>\n",
       "      <td>39144.653465</td>\n",
       "      <td>4.171106</td>\n",
       "    </tr>\n",
       "    <tr>\n",
       "      <th>Thursday</th>\n",
       "      <th>Weekday</th>\n",
       "      <td>9.785036</td>\n",
       "      <td>23206.204380</td>\n",
       "      <td>11.803964</td>\n",
       "    </tr>\n",
       "    <tr>\n",
       "      <th>Tuesday</th>\n",
       "      <th>Weekday</th>\n",
       "      <td>8.754484</td>\n",
       "      <td>24074.199288</td>\n",
       "      <td>10.510040</td>\n",
       "    </tr>\n",
       "    <tr>\n",
       "      <th>Wednesday</th>\n",
       "      <th>Weekday</th>\n",
       "      <td>8.924911</td>\n",
       "      <td>24074.199288</td>\n",
       "      <td>10.780560</td>\n",
       "    </tr>\n",
       "    <tr>\n",
       "      <th rowspan=\"7\" valign=\"top\">Maximum_Load</th>\n",
       "      <th>Friday</th>\n",
       "      <th>Weekday</th>\n",
       "      <td>27.883983</td>\n",
       "      <td>53106.000000</td>\n",
       "      <td>61.043700</td>\n",
       "    </tr>\n",
       "    <tr>\n",
       "      <th>Monday</th>\n",
       "      <th>Weekday</th>\n",
       "      <td>31.238475</td>\n",
       "      <td>53106.000000</td>\n",
       "      <td>66.278233</td>\n",
       "    </tr>\n",
       "    <tr>\n",
       "      <th>Saturday</th>\n",
       "      <th>Weekend</th>\n",
       "      <td>12.151787</td>\n",
       "      <td>52492.105263</td>\n",
       "      <td>41.529605</td>\n",
       "    </tr>\n",
       "    <tr>\n",
       "      <th>Sunday</th>\n",
       "      <th>Weekend</th>\n",
       "      <td>6.993750</td>\n",
       "      <td>52826.470588</td>\n",
       "      <td>29.195662</td>\n",
       "    </tr>\n",
       "    <tr>\n",
       "      <th>Thursday</th>\n",
       "      <th>Weekday</th>\n",
       "      <td>30.186850</td>\n",
       "      <td>53106.000000</td>\n",
       "      <td>64.522758</td>\n",
       "    </tr>\n",
       "    <tr>\n",
       "      <th>Tuesday</th>\n",
       "      <th>Weekday</th>\n",
       "      <td>30.360357</td>\n",
       "      <td>53176.530612</td>\n",
       "      <td>66.023359</td>\n",
       "    </tr>\n",
       "    <tr>\n",
       "      <th>Wednesday</th>\n",
       "      <th>Weekday</th>\n",
       "      <td>28.609770</td>\n",
       "      <td>53176.530612</td>\n",
       "      <td>62.358359</td>\n",
       "    </tr>\n",
       "    <tr>\n",
       "      <th rowspan=\"7\" valign=\"top\">Medium_Load</th>\n",
       "      <th>Friday</th>\n",
       "      <th>Weekday</th>\n",
       "      <td>16.243713</td>\n",
       "      <td>61758.000000</td>\n",
       "      <td>42.220494</td>\n",
       "    </tr>\n",
       "    <tr>\n",
       "      <th>Monday</th>\n",
       "      <th>Weekday</th>\n",
       "      <td>16.871163</td>\n",
       "      <td>61758.000000</td>\n",
       "      <td>43.097231</td>\n",
       "    </tr>\n",
       "    <tr>\n",
       "      <th>Saturday</th>\n",
       "      <th>Weekend</th>\n",
       "      <td>4.066316</td>\n",
       "      <td>62218.421053</td>\n",
       "      <td>17.547648</td>\n",
       "    </tr>\n",
       "    <tr>\n",
       "      <th>Sunday</th>\n",
       "      <th>Weekend</th>\n",
       "      <td>3.293346</td>\n",
       "      <td>61967.647059</td>\n",
       "      <td>16.368934</td>\n",
       "    </tr>\n",
       "    <tr>\n",
       "      <th>Thursday</th>\n",
       "      <th>Weekday</th>\n",
       "      <td>18.107287</td>\n",
       "      <td>61758.000000</td>\n",
       "      <td>44.986200</td>\n",
       "    </tr>\n",
       "    <tr>\n",
       "      <th>Tuesday</th>\n",
       "      <th>Weekday</th>\n",
       "      <td>17.560740</td>\n",
       "      <td>61705.102041</td>\n",
       "      <td>45.020797</td>\n",
       "    </tr>\n",
       "    <tr>\n",
       "      <th>Wednesday</th>\n",
       "      <th>Weekday</th>\n",
       "      <td>14.984630</td>\n",
       "      <td>61705.102041</td>\n",
       "      <td>40.462379</td>\n",
       "    </tr>\n",
       "  </tbody>\n",
       "</table>\n",
       "</div>"
      ],
      "text/plain": [
       "                                     Lagging_Current_Reactive_Power_KVarh  \\\n",
       "Load_Type    Day_of_week WeekStatus                                         \n",
       "Light_Load   Friday      Weekday                                 9.553011   \n",
       "             Monday      Weekday                                 7.635354   \n",
       "             Saturday    Weekend                                 5.402193   \n",
       "             Sunday      Weekend                                 2.848329   \n",
       "             Thursday    Weekday                                 9.785036   \n",
       "             Tuesday     Weekday                                 8.754484   \n",
       "             Wednesday   Weekday                                 8.924911   \n",
       "Maximum_Load Friday      Weekday                                27.883983   \n",
       "             Monday      Weekday                                31.238475   \n",
       "             Saturday    Weekend                                12.151787   \n",
       "             Sunday      Weekend                                 6.993750   \n",
       "             Thursday    Weekday                                30.186850   \n",
       "             Tuesday     Weekday                                30.360357   \n",
       "             Wednesday   Weekday                                28.609770   \n",
       "Medium_Load  Friday      Weekday                                16.243713   \n",
       "             Monday      Weekday                                16.871163   \n",
       "             Saturday    Weekend                                 4.066316   \n",
       "             Sunday      Weekend                                 3.293346   \n",
       "             Thursday    Weekday                                18.107287   \n",
       "             Tuesday     Weekday                                17.560740   \n",
       "             Wednesday   Weekday                                14.984630   \n",
       "\n",
       "                                              NSM  Usage_kWh  \n",
       "Load_Type    Day_of_week WeekStatus                           \n",
       "Light_Load   Friday      Weekday     23206.204380  11.361442  \n",
       "             Monday      Weekday     24026.223776   8.805459  \n",
       "             Saturday    Weekend     31381.843575   7.072210  \n",
       "             Sunday      Weekend     39144.653465   4.171106  \n",
       "             Thursday    Weekday     23206.204380  11.803964  \n",
       "             Tuesday     Weekday     24074.199288  10.510040  \n",
       "             Wednesday   Weekday     24074.199288  10.780560  \n",
       "Maximum_Load Friday      Weekday     53106.000000  61.043700  \n",
       "             Monday      Weekday     53106.000000  66.278233  \n",
       "             Saturday    Weekend     52492.105263  41.529605  \n",
       "             Sunday      Weekend     52826.470588  29.195662  \n",
       "             Thursday    Weekday     53106.000000  64.522758  \n",
       "             Tuesday     Weekday     53176.530612  66.023359  \n",
       "             Wednesday   Weekday     53176.530612  62.358359  \n",
       "Medium_Load  Friday      Weekday     61758.000000  42.220494  \n",
       "             Monday      Weekday     61758.000000  43.097231  \n",
       "             Saturday    Weekend     62218.421053  17.547648  \n",
       "             Sunday      Weekend     61967.647059  16.368934  \n",
       "             Thursday    Weekday     61758.000000  44.986200  \n",
       "             Tuesday     Weekday     61705.102041  45.020797  \n",
       "             Wednesday   Weekday     61705.102041  40.462379  "
      ]
     },
     "execution_count": 27,
     "metadata": {},
     "output_type": "execute_result"
    }
   ],
   "source": [
    "#analyzing energy consumption(usage) and NSM(Number of Seconds from midnight Continuous) \n",
    "#based on load type, day of week and week status\n",
    "\n",
    "pd.pivot_table(org_df, index = ['Load_Type', 'Day_of_week', 'WeekStatus'], values = ['NSM', 'Usage_kWh','Lagging_Current_Reactive_Power_KVarh'], \n",
    "               aggfunc = {'NSM' : np.mean, 'Usage_kWh' : np.mean,'Lagging_Current_Reactive_Power_KVarh' : np.mean})"
   ]
  },
  {
   "cell_type": "code",
   "execution_count": 28,
   "metadata": {
    "colab": {
     "base_uri": "https://localhost:8080/",
     "height": 392
    },
    "executionInfo": {
     "elapsed": 459,
     "status": "ok",
     "timestamp": 1649588278858,
     "user": {
      "displayName": "Lalith Msd7",
      "userId": "05886998925610296696"
     },
     "user_tz": -330
    },
    "id": "xdMVJL7fLPOh",
    "outputId": "89bdec71-9429-411b-b417-f5b14d2e0013"
   },
   "outputs": [
    {
     "data": {
      "text/plain": [
       "Text(0, 0.5, 'Energy Consumption')"
      ]
     },
     "execution_count": 28,
     "metadata": {},
     "output_type": "execute_result"
    },
    {
     "data": {
      "image/png": "[encoded data removed]",
      "text/plain": [
       "<Figure size 504x360 with 1 Axes>"
      ]
     },
     "metadata": {
      "needs_background": "light"
     },
     "output_type": "display_data"
    }
   ],
   "source": [
    "#visualize energy consumption based on load type\n",
    "\n",
    "\n",
    "plt.rcParams['figure.figsize'] = (7,5)\n",
    "graph_3 = org_df.groupby('Load_Type')['Usage_kWh'].mean().sort_values(ascending = False).plot(kind = 'bar', color = 'brown')\n",
    "graph_3.set_xticklabels(graph_3.get_xticklabels(), rotation = 10)\n",
    "plt.title('Energy Consumption based on Load Type', fontsize = 17, color = 'b', pad = 12)\n",
    "plt.xlabel('Load Type')\n",
    "plt.ylabel('Energy Consumption')"
   ]
  },
  {
   "cell_type": "code",
   "execution_count": 29,
   "metadata": {
    "colab": {
     "base_uri": "https://localhost:8080/",
     "height": 374
    },
    "executionInfo": {
     "elapsed": 467,
     "status": "ok",
     "timestamp": 1649588282269,
     "user": {
      "displayName": "Lalith Msd7",
      "userId": "05886998925610296696"
     },
     "user_tz": -330
    },
    "id": "Xxb1zNIKLSYK",
    "outputId": "49441f2c-c92f-4e2c-df7f-0a3c1d3a055f"
   },
   "outputs": [
    {
     "data": {
      "image/png": "[encoded data removed]",
      "text/plain": [
       "<Figure size 504x360 with 1 Axes>"
      ]
     },
     "metadata": {
      "needs_background": "light"
     },
     "output_type": "display_data"
    }
   ],
   "source": [
    "#visualize number of second from midnight based on load type\n",
    "\n",
    "\n",
    "plt.rcParams['figure.figsize'] = (7,5)\n",
    "graph_4 = org_df.groupby('Load_Type')['NSM'].mean().sort_values(ascending = False).plot(kind = 'bar', color = 'green')\n",
    "graph_4.set_xticklabels(graph_4.get_xticklabels(), rotation = 10)\n",
    "plt.title('Number of Second from Midnight based on Load Type', fontsize = 17, color = 'b', pad = 12)\n",
    "plt.xlabel('Load Type')\n",
    "plt.ylabel('Number of Second from Midnight')\n",
    "plt.show()                                       #approx:17hrs"
   ]
  },
  {
   "cell_type": "code",
   "execution_count": 30,
   "metadata": {
    "colab": {
     "base_uri": "https://localhost:8080/",
     "height": 367
    },
    "executionInfo": {
     "elapsed": 1249,
     "status": "ok",
     "timestamp": 1649588286377,
     "user": {
      "displayName": "Lalith Msd7",
      "userId": "05886998925610296696"
     },
     "user_tz": -330
    },
    "id": "Gkr7PJg3LaEb",
    "outputId": "319959ea-9525-4747-cdf5-3d3a04b4e752"
   },
   "outputs": [
    {
     "data": {
      "image/png": "[encoded data removed]",
      "text/plain": [
       "<Figure size 504x360 with 1 Axes>"
      ]
     },
     "metadata": {
      "needs_background": "light"
     },
     "output_type": "display_data"
    }
   ],
   "source": [
    "#visualize energy consumption based on week status and load type\n",
    "\n",
    "\n",
    "plt.rcParams['figure.figsize'] = (7,5)\n",
    "graph_5 = org_df.groupby(['WeekStatus','Load_Type'])['Usage_kWh'].mean().unstack().plot(kind = 'bar')\n",
    "graph_5.set_xticklabels([\"Weekdays\",\"Weekends\"], rotation = 10)\n",
    "plt.title('Energy Consumption distingusihed based on Days Status & Load Type', fontsize = 17, pad = 12, color = 'b')\n",
    "plt.xlabel('Days Status')\n",
    "plt.ylabel('Energy Consumption')\n",
    "plt.legend(bbox_to_anchor = (1, 1), borderaxespad = 0)\n",
    "plt.show()"
   ]
  },
  {
   "cell_type": "code",
   "execution_count": 31,
   "metadata": {
    "colab": {
     "base_uri": "https://localhost:8080/",
     "height": 400
    },
    "executionInfo": {
     "elapsed": 1308,
     "status": "ok",
     "timestamp": 1649588290160,
     "user": {
      "displayName": "Lalith Msd7",
      "userId": "05886998925610296696"
     },
     "user_tz": -330
    },
    "id": "hndZPmu7Lekh",
    "outputId": "417bd8dc-83c2-4997-9c0e-d966afe4d74b"
   },
   "outputs": [
    {
     "data": {
      "image/png": "[encoded data removed]",
      "text/plain": [
       "<Figure size 504x360 with 1 Axes>"
      ]
     },
     "metadata": {
      "needs_background": "light"
     },
     "output_type": "display_data"
    }
   ],
   "source": [
    "#visualize energy consumption based on day of week and load type\n",
    "\n",
    "\n",
    "graph_6 = org_df.groupby(['Day_of_week','Load_Type'])['Usage_kWh'].mean().unstack().plot(kind = 'bar')\n",
    "graph_6.set_xticklabels(graph_6.get_xticklabels(), rotation = 50)\n",
    "plt.title('Energy Consumption based on (Day of Week and Load Type)', fontsize = 17, pad = 12, color = 'b')\n",
    "plt.xlabel('Day of Week')\n",
    "plt.ylabel('Energy Consumption')\n",
    "plt.legend(bbox_to_anchor = (1.005, 1), borderaxespad = 1)\n",
    "plt.show()"
   ]
  },
  {
   "cell_type": "code",
   "execution_count": 32,
   "metadata": {
    "colab": {
     "base_uri": "https://localhost:8080/",
     "height": 606
    },
    "executionInfo": {
     "elapsed": 1736,
     "status": "ok",
     "timestamp": 1649588295149,
     "user": {
      "displayName": "Lalith Msd7",
      "userId": "05886998925610296696"
     },
     "user_tz": -330
    },
    "id": "9k_aTd52LoVM",
    "outputId": "146d696a-b322-4189-fd11-f7f5df4d37a7"
   },
   "outputs": [
    {
     "data": {
      "image/png": "[encoded data removed]",
      "text/plain": [
       "<Figure size 1080x720 with 9 Axes>"
      ]
     },
     "metadata": {
      "needs_background": "light"
     },
     "output_type": "display_data"
    }
   ],
   "source": [
    "#distribution of each variable(Histogram(Frequency graphs))\n",
    "\n",
    "\n",
    "org_df.hist(figsize = (15,10))\n",
    "plt.show()"
   ]
  },
  {
   "cell_type": "code",
   "execution_count": 33,
   "metadata": {
    "id": "ZPavrToJ9tjB"
   },
   "outputs": [],
   "source": [
    "#MODEL TRAINING"
   ]
  },
  {
   "cell_type": "code",
   "execution_count": 36,
   "metadata": {
    "executionInfo": {
     "elapsed": 401,
     "status": "ok",
     "timestamp": 1649588329182,
     "user": {
      "displayName": "Lalith Msd7",
      "userId": "05886998925610296696"
     },
     "user_tz": -330
    },
    "id": "6eui0ox7Lu8x"
   },
   "outputs": [],
   "source": [
    "#Scaling downing and normalizing the numarical values \n",
    "\n",
    "\n",
    "from sklearn import preprocessing  \n",
    "org_df[['Usage_kWh', 'Lagging_Current_Reactive_Power_KVarh',\n",
    "       'Leading_Current_Reactive_Power_kVarh', 'CO2',\n",
    "       'Lagging_Current_Power_Factor', 'Leading_Current_Power_Factor', 'NSM']]=preprocessing.normalize(org_df[['Usage_kWh', 'Lagging_Current_Reactive_Power_KVarh',\n",
    "       'Leading_Current_Reactive_Power_kVarh', 'CO2',\n",
    "       'Lagging_Current_Power_Factor', 'Leading_Current_Power_Factor', 'NSM']])"
   ]
  },
  {
   "cell_type": "code",
   "execution_count": 37,
   "metadata": {
    "executionInfo": {
     "elapsed": 3,
     "status": "ok",
     "timestamp": 1649588333598,
     "user": {
      "displayName": "Lalith Msd7",
      "userId": "05886998925610296696"
     },
     "user_tz": -330
    },
    "id": "Jif4Ac7FMBKS"
   },
   "outputs": [],
   "source": [
    "org_df = org_df.set_index('date')\n",
    "\n",
    "#handling categorical data\n",
    "org_df = pd.get_dummies(org_df)  #one-hot encoding splitting the cateorical variables."
   ]
  },
  {
   "cell_type": "code",
   "execution_count": 38,
   "metadata": {
    "colab": {
     "base_uri": "https://localhost:8080/",
     "height": 692
    },
    "executionInfo": {
     "elapsed": 406,
     "status": "ok",
     "timestamp": 1649588336417,
     "user": {
      "displayName": "Lalith Msd7",
      "userId": "05886998925610296696"
     },
     "user_tz": -330
    },
    "id": "ExKtZC0eMPop",
    "outputId": "9808f6c2-e494-4988-e2db-e8817234b085"
   },
   "outputs": [
    {
     "data": {
      "text/html": [
       "<div>\n",
       "<style scoped>\n",
       "    .dataframe tbody tr th:only-of-type {\n",
       "        vertical-align: middle;\n",
       "    }\n",
       "\n",
       "    .dataframe tbody tr th {\n",
       "        vertical-align: top;\n",
       "    }\n",
       "\n",
       "    .dataframe thead th {\n",
       "        text-align: right;\n",
       "    }\n",
       "</style>\n",
       "<table border=\"1\" class=\"dataframe\">\n",
       "  <thead>\n",
       "    <tr style=\"text-align: right;\">\n",
       "      <th></th>\n",
       "      <th>Usage_kWh</th>\n",
       "      <th>Lagging_Current_Reactive_Power_KVarh</th>\n",
       "      <th>Leading_Current_Reactive_Power_kVarh</th>\n",
       "      <th>CO2</th>\n",
       "      <th>Lagging_Current_Power_Factor</th>\n",
       "      <th>Leading_Current_Power_Factor</th>\n",
       "      <th>NSM</th>\n",
       "      <th>WeekStatus_Weekday</th>\n",
       "      <th>WeekStatus_Weekend</th>\n",
       "      <th>Day_of_week_Friday</th>\n",
       "      <th>Day_of_week_Monday</th>\n",
       "      <th>Day_of_week_Saturday</th>\n",
       "      <th>Day_of_week_Sunday</th>\n",
       "      <th>Day_of_week_Thursday</th>\n",
       "      <th>Day_of_week_Tuesday</th>\n",
       "      <th>Day_of_week_Wednesday</th>\n",
       "      <th>Load_Type_Light_Load</th>\n",
       "      <th>Load_Type_Maximum_Load</th>\n",
       "      <th>Load_Type_Medium_Load</th>\n",
       "    </tr>\n",
       "    <tr>\n",
       "      <th>date</th>\n",
       "      <th></th>\n",
       "      <th></th>\n",
       "      <th></th>\n",
       "      <th></th>\n",
       "      <th></th>\n",
       "      <th></th>\n",
       "      <th></th>\n",
       "      <th></th>\n",
       "      <th></th>\n",
       "      <th></th>\n",
       "      <th></th>\n",
       "      <th></th>\n",
       "      <th></th>\n",
       "      <th></th>\n",
       "      <th></th>\n",
       "      <th></th>\n",
       "      <th></th>\n",
       "      <th></th>\n",
       "      <th></th>\n",
       "    </tr>\n",
       "  </thead>\n",
       "  <tbody>\n",
       "    <tr>\n",
       "      <th>01/01/2018 00:15</th>\n",
       "      <td>0.003489</td>\n",
       "      <td>0.003247</td>\n",
       "      <td>0.000000e+00</td>\n",
       "      <td>0.0</td>\n",
       "      <td>0.080583</td>\n",
       "      <td>0.110071</td>\n",
       "      <td>0.990640</td>\n",
       "      <td>1</td>\n",
       "      <td>0</td>\n",
       "      <td>0</td>\n",
       "      <td>1</td>\n",
       "      <td>0</td>\n",
       "      <td>0</td>\n",
       "      <td>0</td>\n",
       "      <td>0</td>\n",
       "      <td>0</td>\n",
       "      <td>1</td>\n",
       "      <td>0</td>\n",
       "      <td>0</td>\n",
       "    </tr>\n",
       "    <tr>\n",
       "      <th>01/01/2018 00:30</th>\n",
       "      <td>0.002217</td>\n",
       "      <td>0.002472</td>\n",
       "      <td>0.000000e+00</td>\n",
       "      <td>0.0</td>\n",
       "      <td>0.037012</td>\n",
       "      <td>0.055432</td>\n",
       "      <td>0.997771</td>\n",
       "      <td>1</td>\n",
       "      <td>0</td>\n",
       "      <td>0</td>\n",
       "      <td>1</td>\n",
       "      <td>0</td>\n",
       "      <td>0</td>\n",
       "      <td>0</td>\n",
       "      <td>0</td>\n",
       "      <td>0</td>\n",
       "      <td>1</td>\n",
       "      <td>0</td>\n",
       "      <td>0</td>\n",
       "    </tr>\n",
       "    <tr>\n",
       "      <th>01/01/2018 00:45</th>\n",
       "      <td>0.001199</td>\n",
       "      <td>0.001214</td>\n",
       "      <td>0.000000e+00</td>\n",
       "      <td>0.0</td>\n",
       "      <td>0.026003</td>\n",
       "      <td>0.036999</td>\n",
       "      <td>0.998975</td>\n",
       "      <td>1</td>\n",
       "      <td>0</td>\n",
       "      <td>0</td>\n",
       "      <td>1</td>\n",
       "      <td>0</td>\n",
       "      <td>0</td>\n",
       "      <td>0</td>\n",
       "      <td>0</td>\n",
       "      <td>0</td>\n",
       "      <td>1</td>\n",
       "      <td>0</td>\n",
       "      <td>0</td>\n",
       "    </tr>\n",
       "    <tr>\n",
       "      <th>01/01/2018 01:00</th>\n",
       "      <td>0.000919</td>\n",
       "      <td>0.000988</td>\n",
       "      <td>0.000000e+00</td>\n",
       "      <td>0.0</td>\n",
       "      <td>0.018903</td>\n",
       "      <td>0.027762</td>\n",
       "      <td>0.999435</td>\n",
       "      <td>1</td>\n",
       "      <td>0</td>\n",
       "      <td>0</td>\n",
       "      <td>1</td>\n",
       "      <td>0</td>\n",
       "      <td>0</td>\n",
       "      <td>0</td>\n",
       "      <td>0</td>\n",
       "      <td>0</td>\n",
       "      <td>1</td>\n",
       "      <td>0</td>\n",
       "      <td>0</td>\n",
       "    </tr>\n",
       "    <tr>\n",
       "      <th>01/01/2018 01:15</th>\n",
       "      <td>0.000849</td>\n",
       "      <td>0.001000</td>\n",
       "      <td>0.000000e+00</td>\n",
       "      <td>0.0</td>\n",
       "      <td>0.014377</td>\n",
       "      <td>0.022214</td>\n",
       "      <td>0.999649</td>\n",
       "      <td>1</td>\n",
       "      <td>0</td>\n",
       "      <td>0</td>\n",
       "      <td>1</td>\n",
       "      <td>0</td>\n",
       "      <td>0</td>\n",
       "      <td>0</td>\n",
       "      <td>0</td>\n",
       "      <td>0</td>\n",
       "      <td>1</td>\n",
       "      <td>0</td>\n",
       "      <td>0</td>\n",
       "    </tr>\n",
       "    <tr>\n",
       "      <th>...</th>\n",
       "      <td>...</td>\n",
       "      <td>...</td>\n",
       "      <td>...</td>\n",
       "      <td>...</td>\n",
       "      <td>...</td>\n",
       "      <td>...</td>\n",
       "      <td>...</td>\n",
       "      <td>...</td>\n",
       "      <td>...</td>\n",
       "      <td>...</td>\n",
       "      <td>...</td>\n",
       "      <td>...</td>\n",
       "      <td>...</td>\n",
       "      <td>...</td>\n",
       "      <td>...</td>\n",
       "      <td>...</td>\n",
       "      <td>...</td>\n",
       "      <td>...</td>\n",
       "      <td>...</td>\n",
       "    </tr>\n",
       "    <tr>\n",
       "      <th>31/12/2018 23:00</th>\n",
       "      <td>0.000046</td>\n",
       "      <td>0.000059</td>\n",
       "      <td>0.000000e+00</td>\n",
       "      <td>0.0</td>\n",
       "      <td>0.000750</td>\n",
       "      <td>0.001208</td>\n",
       "      <td>0.999999</td>\n",
       "      <td>1</td>\n",
       "      <td>0</td>\n",
       "      <td>0</td>\n",
       "      <td>1</td>\n",
       "      <td>0</td>\n",
       "      <td>0</td>\n",
       "      <td>0</td>\n",
       "      <td>0</td>\n",
       "      <td>0</td>\n",
       "      <td>1</td>\n",
       "      <td>0</td>\n",
       "      <td>0</td>\n",
       "    </tr>\n",
       "    <tr>\n",
       "      <th>31/12/2018 23:15</th>\n",
       "      <td>0.000045</td>\n",
       "      <td>0.000045</td>\n",
       "      <td>0.000000e+00</td>\n",
       "      <td>0.0</td>\n",
       "      <td>0.000845</td>\n",
       "      <td>0.001195</td>\n",
       "      <td>0.999999</td>\n",
       "      <td>1</td>\n",
       "      <td>0</td>\n",
       "      <td>0</td>\n",
       "      <td>1</td>\n",
       "      <td>0</td>\n",
       "      <td>0</td>\n",
       "      <td>0</td>\n",
       "      <td>0</td>\n",
       "      <td>0</td>\n",
       "      <td>1</td>\n",
       "      <td>0</td>\n",
       "      <td>0</td>\n",
       "    </tr>\n",
       "    <tr>\n",
       "      <th>31/12/2018 23:30</th>\n",
       "      <td>0.000045</td>\n",
       "      <td>0.000037</td>\n",
       "      <td>8.274222e-07</td>\n",
       "      <td>0.0</td>\n",
       "      <td>0.000906</td>\n",
       "      <td>0.001182</td>\n",
       "      <td>0.999999</td>\n",
       "      <td>1</td>\n",
       "      <td>0</td>\n",
       "      <td>0</td>\n",
       "      <td>1</td>\n",
       "      <td>0</td>\n",
       "      <td>0</td>\n",
       "      <td>0</td>\n",
       "      <td>0</td>\n",
       "      <td>0</td>\n",
       "      <td>1</td>\n",
       "      <td>0</td>\n",
       "      <td>0</td>\n",
       "    </tr>\n",
       "    <tr>\n",
       "      <th>31/12/2018 23:45</th>\n",
       "      <td>0.000044</td>\n",
       "      <td>0.000036</td>\n",
       "      <td>1.286548e-06</td>\n",
       "      <td>0.0</td>\n",
       "      <td>0.000909</td>\n",
       "      <td>0.001169</td>\n",
       "      <td>0.999999</td>\n",
       "      <td>1</td>\n",
       "      <td>0</td>\n",
       "      <td>0</td>\n",
       "      <td>1</td>\n",
       "      <td>0</td>\n",
       "      <td>0</td>\n",
       "      <td>0</td>\n",
       "      <td>0</td>\n",
       "      <td>0</td>\n",
       "      <td>1</td>\n",
       "      <td>0</td>\n",
       "      <td>0</td>\n",
       "    </tr>\n",
       "    <tr>\n",
       "      <th>31/12/2018 00:00</th>\n",
       "      <td>0.029031</td>\n",
       "      <td>0.023889</td>\n",
       "      <td>5.537184e-04</td>\n",
       "      <td>0.0</td>\n",
       "      <td>0.610831</td>\n",
       "      <td>0.790868</td>\n",
       "      <td>0.000000</td>\n",
       "      <td>1</td>\n",
       "      <td>0</td>\n",
       "      <td>0</td>\n",
       "      <td>1</td>\n",
       "      <td>0</td>\n",
       "      <td>0</td>\n",
       "      <td>0</td>\n",
       "      <td>0</td>\n",
       "      <td>0</td>\n",
       "      <td>1</td>\n",
       "      <td>0</td>\n",
       "      <td>0</td>\n",
       "    </tr>\n",
       "  </tbody>\n",
       "</table>\n",
       "<p>35040 rows × 19 columns</p>\n",
       "</div>"
      ],
      "text/plain": [
       "                  Usage_kWh  Lagging_Current_Reactive_Power_KVarh  \\\n",
       "date                                                                \n",
       "01/01/2018 00:15   0.003489                              0.003247   \n",
       "01/01/2018 00:30   0.002217                              0.002472   \n",
       "01/01/2018 00:45   0.001199                              0.001214   \n",
       "01/01/2018 01:00   0.000919                              0.000988   \n",
       "01/01/2018 01:15   0.000849                              0.001000   \n",
       "...                     ...                                   ...   \n",
       "31/12/2018 23:00   0.000046                              0.000059   \n",
       "31/12/2018 23:15   0.000045                              0.000045   \n",
       "31/12/2018 23:30   0.000045                              0.000037   \n",
       "31/12/2018 23:45   0.000044                              0.000036   \n",
       "31/12/2018 00:00   0.029031                              0.023889   \n",
       "\n",
       "                  Leading_Current_Reactive_Power_kVarh  CO2  \\\n",
       "date                                                          \n",
       "01/01/2018 00:15                          0.000000e+00  0.0   \n",
       "01/01/2018 00:30                          0.000000e+00  0.0   \n",
       "01/01/2018 00:45                          0.000000e+00  0.0   \n",
       "01/01/2018 01:00                          0.000000e+00  0.0   \n",
       "01/01/2018 01:15                          0.000000e+00  0.0   \n",
       "...                                                ...  ...   \n",
       "31/12/2018 23:00                          0.000000e+00  0.0   \n",
       "31/12/2018 23:15                          0.000000e+00  0.0   \n",
       "31/12/2018 23:30                          8.274222e-07  0.0   \n",
       "31/12/2018 23:45                          1.286548e-06  0.0   \n",
       "31/12/2018 00:00                          5.537184e-04  0.0   \n",
       "\n",
       "                  Lagging_Current_Power_Factor  Leading_Current_Power_Factor  \\\n",
       "date                                                                           \n",
       "01/01/2018 00:15                      0.080583                      0.110071   \n",
       "01/01/2018 00:30                      0.037012                      0.055432   \n",
       "01/01/2018 00:45                      0.026003                      0.036999   \n",
       "01/01/2018 01:00                      0.018903                      0.027762   \n",
       "01/01/2018 01:15                      0.014377                      0.022214   \n",
       "...                                        ...                           ...   \n",
       "31/12/2018 23:00                      0.000750                      0.001208   \n",
       "31/12/2018 23:15                      0.000845                      0.001195   \n",
       "31/12/2018 23:30                      0.000906                      0.001182   \n",
       "31/12/2018 23:45                      0.000909                      0.001169   \n",
       "31/12/2018 00:00                      0.610831                      0.790868   \n",
       "\n",
       "                       NSM  WeekStatus_Weekday  WeekStatus_Weekend  \\\n",
       "date                                                                 \n",
       "01/01/2018 00:15  0.990640                   1                   0   \n",
       "01/01/2018 00:30  0.997771                   1                   0   \n",
       "01/01/2018 00:45  0.998975                   1                   0   \n",
       "01/01/2018 01:00  0.999435                   1                   0   \n",
       "01/01/2018 01:15  0.999649                   1                   0   \n",
       "...                    ...                 ...                 ...   \n",
       "31/12/2018 23:00  0.999999                   1                   0   \n",
       "31/12/2018 23:15  0.999999                   1                   0   \n",
       "31/12/2018 23:30  0.999999                   1                   0   \n",
       "31/12/2018 23:45  0.999999                   1                   0   \n",
       "31/12/2018 00:00  0.000000                   1                   0   \n",
       "\n",
       "                  Day_of_week_Friday  Day_of_week_Monday  \\\n",
       "date                                                       \n",
       "01/01/2018 00:15                   0                   1   \n",
       "01/01/2018 00:30                   0                   1   \n",
       "01/01/2018 00:45                   0                   1   \n",
       "01/01/2018 01:00                   0                   1   \n",
       "01/01/2018 01:15                   0                   1   \n",
       "...                              ...                 ...   \n",
       "31/12/2018 23:00                   0                   1   \n",
       "31/12/2018 23:15                   0                   1   \n",
       "31/12/2018 23:30                   0                   1   \n",
       "31/12/2018 23:45                   0                   1   \n",
       "31/12/2018 00:00                   0                   1   \n",
       "\n",
       "                  Day_of_week_Saturday  Day_of_week_Sunday  \\\n",
       "date                                                         \n",
       "01/01/2018 00:15                     0                   0   \n",
       "01/01/2018 00:30                     0                   0   \n",
       "01/01/2018 00:45                     0                   0   \n",
       "01/01/2018 01:00                     0                   0   \n",
       "01/01/2018 01:15                     0                   0   \n",
       "...                                ...                 ...   \n",
       "31/12/2018 23:00                     0                   0   \n",
       "31/12/2018 23:15                     0                   0   \n",
       "31/12/2018 23:30                     0                   0   \n",
       "31/12/2018 23:45                     0                   0   \n",
       "31/12/2018 00:00                     0                   0   \n",
       "\n",
       "                  Day_of_week_Thursday  Day_of_week_Tuesday  \\\n",
       "date                                                          \n",
       "01/01/2018 00:15                     0                    0   \n",
       "01/01/2018 00:30                     0                    0   \n",
       "01/01/2018 00:45                     0                    0   \n",
       "01/01/2018 01:00                     0                    0   \n",
       "01/01/2018 01:15                     0                    0   \n",
       "...                                ...                  ...   \n",
       "31/12/2018 23:00                     0                    0   \n",
       "31/12/2018 23:15                     0                    0   \n",
       "31/12/2018 23:30                     0                    0   \n",
       "31/12/2018 23:45                     0                    0   \n",
       "31/12/2018 00:00                     0                    0   \n",
       "\n",
       "                  Day_of_week_Wednesday  Load_Type_Light_Load  \\\n",
       "date                                                            \n",
       "01/01/2018 00:15                      0                     1   \n",
       "01/01/2018 00:30                      0                     1   \n",
       "01/01/2018 00:45                      0                     1   \n",
       "01/01/2018 01:00                      0                     1   \n",
       "01/01/2018 01:15                      0                     1   \n",
       "...                                 ...                   ...   \n",
       "31/12/2018 23:00                      0                     1   \n",
       "31/12/2018 23:15                      0                     1   \n",
       "31/12/2018 23:30                      0                     1   \n",
       "31/12/2018 23:45                      0                     1   \n",
       "31/12/2018 00:00                      0                     1   \n",
       "\n",
       "                  Load_Type_Maximum_Load  Load_Type_Medium_Load  \n",
       "date                                                             \n",
       "01/01/2018 00:15                       0                      0  \n",
       "01/01/2018 00:30                       0                      0  \n",
       "01/01/2018 00:45                       0                      0  \n",
       "01/01/2018 01:00                       0                      0  \n",
       "01/01/2018 01:15                       0                      0  \n",
       "...                                  ...                    ...  \n",
       "31/12/2018 23:00                       0                      0  \n",
       "31/12/2018 23:15                       0                      0  \n",
       "31/12/2018 23:30                       0                      0  \n",
       "31/12/2018 23:45                       0                      0  \n",
       "31/12/2018 00:00                       0                      0  \n",
       "\n",
       "[35040 rows x 19 columns]"
      ]
     },
     "execution_count": 38,
     "metadata": {},
     "output_type": "execute_result"
    }
   ],
   "source": [
    "org_df"
   ]
  },
  {
   "cell_type": "code",
   "execution_count": 39,
   "metadata": {
    "colab": {
     "base_uri": "https://localhost:8080/"
    },
    "executionInfo": {
     "elapsed": 383,
     "status": "ok",
     "timestamp": 1649588341130,
     "user": {
      "displayName": "Lalith Msd7",
      "userId": "05886998925610296696"
     },
     "user_tz": -330
    },
    "id": "R8zz3GxlMTMT",
    "outputId": "4b821a57-64dd-47ff-f93d-d3b77f1839e6"
   },
   "outputs": [
    {
     "data": {
      "text/plain": [
       "(35040, 19)"
      ]
     },
     "execution_count": 39,
     "metadata": {},
     "output_type": "execute_result"
    }
   ],
   "source": [
    "org_df.shape"
   ]
  },
  {
   "cell_type": "code",
   "execution_count": 40,
   "metadata": {
    "colab": {
     "base_uri": "https://localhost:8080/",
     "height": 426
    },
    "executionInfo": {
     "elapsed": 1251,
     "status": "ok",
     "timestamp": 1649588457601,
     "user": {
      "displayName": "Lalith Msd7",
      "userId": "05886998925610296696"
     },
     "user_tz": -330
    },
    "id": "ZZ1BjGjMMeMD",
    "outputId": "a359f0b7-1675-4b13-fb2a-fb0289ffb7d4"
   },
   "outputs": [
    {
     "name": "stderr",
     "output_type": "stream",
     "text": [
      "E:\\anaconda\\lib\\site-packages\\seaborn\\distributions.py:2557: FutureWarning: `distplot` is a deprecated function and will be removed in a future version. Please adapt your code to use either `displot` (a figure-level function with similar flexibility) or `histplot` (an axes-level function for histograms).\n",
      "  warnings.warn(msg, FutureWarning)\n"
     ]
    },
    {
     "data": {
      "text/plain": [
       "Text(0.5, 1.0, 'Energy Usage Distribution')"
      ]
     },
     "execution_count": 40,
     "metadata": {},
     "output_type": "execute_result"
    },
    {
     "data": {
      "image/png": "[encoded data removed]",
      "text/plain": [
       "<Figure size 504x360 with 1 Axes>"
      ]
     },
     "metadata": {
      "needs_background": "light"
     },
     "output_type": "display_data"
    }
   ],
   "source": [
    "sns.distplot(org_df[\"Usage_kWh\"])\n",
    "plt.title(\"Energy Usage Distribution\")"
   ]
  },
  {
   "cell_type": "code",
   "execution_count": 41,
   "metadata": {
    "colab": {
     "base_uri": "https://localhost:8080/",
     "height": 364
    },
    "executionInfo": {
     "elapsed": 398,
     "status": "ok",
     "timestamp": 1649588461204,
     "user": {
      "displayName": "Lalith Msd7",
      "userId": "05886998925610296696"
     },
     "user_tz": -330
    },
    "id": "fnDXvJY0MiT9",
    "outputId": "5a3f9431-a2f1-4671-c975-8415b216bbfd"
   },
   "outputs": [
    {
     "data": {
      "text/html": [
       "<div>\n",
       "<style scoped>\n",
       "    .dataframe tbody tr th:only-of-type {\n",
       "        vertical-align: middle;\n",
       "    }\n",
       "\n",
       "    .dataframe tbody tr th {\n",
       "        vertical-align: top;\n",
       "    }\n",
       "\n",
       "    .dataframe thead th {\n",
       "        text-align: right;\n",
       "    }\n",
       "</style>\n",
       "<table border=\"1\" class=\"dataframe\">\n",
       "  <thead>\n",
       "    <tr style=\"text-align: right;\">\n",
       "      <th></th>\n",
       "      <th>Usage_kWh</th>\n",
       "      <th>Lagging_Current_Reactive_Power_KVarh</th>\n",
       "      <th>Leading_Current_Reactive_Power_kVarh</th>\n",
       "      <th>CO2</th>\n",
       "      <th>Lagging_Current_Power_Factor</th>\n",
       "      <th>Leading_Current_Power_Factor</th>\n",
       "      <th>NSM</th>\n",
       "      <th>WeekStatus_Weekday</th>\n",
       "      <th>WeekStatus_Weekend</th>\n",
       "      <th>Day_of_week_Friday</th>\n",
       "      <th>Day_of_week_Monday</th>\n",
       "      <th>Day_of_week_Saturday</th>\n",
       "      <th>Day_of_week_Sunday</th>\n",
       "      <th>Day_of_week_Thursday</th>\n",
       "      <th>Day_of_week_Tuesday</th>\n",
       "      <th>Day_of_week_Wednesday</th>\n",
       "      <th>Load_Type_Light_Load</th>\n",
       "      <th>Load_Type_Maximum_Load</th>\n",
       "      <th>Load_Type_Medium_Load</th>\n",
       "    </tr>\n",
       "  </thead>\n",
       "  <tbody>\n",
       "    <tr>\n",
       "      <th>count</th>\n",
       "      <td>35040.000000</td>\n",
       "      <td>35040.000000</td>\n",
       "      <td>35040.000000</td>\n",
       "      <td>3.504000e+04</td>\n",
       "      <td>35040.000000</td>\n",
       "      <td>35040.000000</td>\n",
       "      <td>35040.000000</td>\n",
       "      <td>35040.000000</td>\n",
       "      <td>35040.000000</td>\n",
       "      <td>35040.000000</td>\n",
       "      <td>35040.000000</td>\n",
       "      <td>35040.000000</td>\n",
       "      <td>35040.000000</td>\n",
       "      <td>35040.000000</td>\n",
       "      <td>35040.000000</td>\n",
       "      <td>35040.000000</td>\n",
       "      <td>35040.000000</td>\n",
       "      <td>35040.000000</td>\n",
       "      <td>35040.000000</td>\n",
       "    </tr>\n",
       "    <tr>\n",
       "      <th>mean</th>\n",
       "      <td>0.001431</td>\n",
       "      <td>0.001089</td>\n",
       "      <td>0.000087</td>\n",
       "      <td>4.532276e-07</td>\n",
       "      <td>0.009566</td>\n",
       "      <td>0.014186</td>\n",
       "      <td>0.989433</td>\n",
       "      <td>0.715068</td>\n",
       "      <td>0.284932</td>\n",
       "      <td>0.142466</td>\n",
       "      <td>0.145205</td>\n",
       "      <td>0.142466</td>\n",
       "      <td>0.142466</td>\n",
       "      <td>0.142466</td>\n",
       "      <td>0.142466</td>\n",
       "      <td>0.142466</td>\n",
       "      <td>0.515753</td>\n",
       "      <td>0.207534</td>\n",
       "      <td>0.276712</td>\n",
       "    </tr>\n",
       "    <tr>\n",
       "      <th>std</th>\n",
       "      <td>0.012162</td>\n",
       "      <td>0.008117</td>\n",
       "      <td>0.000781</td>\n",
       "      <td>5.486286e-06</td>\n",
       "      <td>0.054952</td>\n",
       "      <td>0.084609</td>\n",
       "      <td>0.101519</td>\n",
       "      <td>0.451388</td>\n",
       "      <td>0.451388</td>\n",
       "      <td>0.349532</td>\n",
       "      <td>0.352313</td>\n",
       "      <td>0.349532</td>\n",
       "      <td>0.349532</td>\n",
       "      <td>0.349532</td>\n",
       "      <td>0.349532</td>\n",
       "      <td>0.349532</td>\n",
       "      <td>0.499759</td>\n",
       "      <td>0.405547</td>\n",
       "      <td>0.447379</td>\n",
       "    </tr>\n",
       "    <tr>\n",
       "      <th>min</th>\n",
       "      <td>0.000000</td>\n",
       "      <td>0.000000</td>\n",
       "      <td>0.000000</td>\n",
       "      <td>0.000000e+00</td>\n",
       "      <td>0.000000</td>\n",
       "      <td>0.000000</td>\n",
       "      <td>0.000000</td>\n",
       "      <td>0.000000</td>\n",
       "      <td>0.000000</td>\n",
       "      <td>0.000000</td>\n",
       "      <td>0.000000</td>\n",
       "      <td>0.000000</td>\n",
       "      <td>0.000000</td>\n",
       "      <td>0.000000</td>\n",
       "      <td>0.000000</td>\n",
       "      <td>0.000000</td>\n",
       "      <td>0.000000</td>\n",
       "      <td>0.000000</td>\n",
       "      <td>0.000000</td>\n",
       "    </tr>\n",
       "    <tr>\n",
       "      <th>25%</th>\n",
       "      <td>0.000111</td>\n",
       "      <td>0.000040</td>\n",
       "      <td>0.000000</td>\n",
       "      <td>0.000000e+00</td>\n",
       "      <td>0.001489</td>\n",
       "      <td>0.001221</td>\n",
       "      <td>0.999984</td>\n",
       "      <td>0.000000</td>\n",
       "      <td>0.000000</td>\n",
       "      <td>0.000000</td>\n",
       "      <td>0.000000</td>\n",
       "      <td>0.000000</td>\n",
       "      <td>0.000000</td>\n",
       "      <td>0.000000</td>\n",
       "      <td>0.000000</td>\n",
       "      <td>0.000000</td>\n",
       "      <td>0.000000</td>\n",
       "      <td>0.000000</td>\n",
       "      <td>0.000000</td>\n",
       "    </tr>\n",
       "    <tr>\n",
       "      <th>50%</th>\n",
       "      <td>0.000369</td>\n",
       "      <td>0.000268</td>\n",
       "      <td>0.000000</td>\n",
       "      <td>0.000000e+00</td>\n",
       "      <td>0.002096</td>\n",
       "      <td>0.002058</td>\n",
       "      <td>0.999995</td>\n",
       "      <td>1.000000</td>\n",
       "      <td>0.000000</td>\n",
       "      <td>0.000000</td>\n",
       "      <td>0.000000</td>\n",
       "      <td>0.000000</td>\n",
       "      <td>0.000000</td>\n",
       "      <td>0.000000</td>\n",
       "      <td>0.000000</td>\n",
       "      <td>0.000000</td>\n",
       "      <td>1.000000</td>\n",
       "      <td>0.000000</td>\n",
       "      <td>0.000000</td>\n",
       "    </tr>\n",
       "    <tr>\n",
       "      <th>75%</th>\n",
       "      <td>0.001136</td>\n",
       "      <td>0.000634</td>\n",
       "      <td>0.000043</td>\n",
       "      <td>4.629616e-07</td>\n",
       "      <td>0.002924</td>\n",
       "      <td>0.004630</td>\n",
       "      <td>0.999998</td>\n",
       "      <td>1.000000</td>\n",
       "      <td>1.000000</td>\n",
       "      <td>0.000000</td>\n",
       "      <td>0.000000</td>\n",
       "      <td>0.000000</td>\n",
       "      <td>0.000000</td>\n",
       "      <td>0.000000</td>\n",
       "      <td>0.000000</td>\n",
       "      <td>0.000000</td>\n",
       "      <td>1.000000</td>\n",
       "      <td>0.000000</td>\n",
       "      <td>1.000000</td>\n",
       "    </tr>\n",
       "    <tr>\n",
       "      <th>max</th>\n",
       "      <td>0.586701</td>\n",
       "      <td>0.337163</td>\n",
       "      <td>0.051302</td>\n",
       "      <td>2.833027e-04</td>\n",
       "      <td>0.917092</td>\n",
       "      <td>0.917794</td>\n",
       "      <td>0.999999</td>\n",
       "      <td>1.000000</td>\n",
       "      <td>1.000000</td>\n",
       "      <td>1.000000</td>\n",
       "      <td>1.000000</td>\n",
       "      <td>1.000000</td>\n",
       "      <td>1.000000</td>\n",
       "      <td>1.000000</td>\n",
       "      <td>1.000000</td>\n",
       "      <td>1.000000</td>\n",
       "      <td>1.000000</td>\n",
       "      <td>1.000000</td>\n",
       "      <td>1.000000</td>\n",
       "    </tr>\n",
       "  </tbody>\n",
       "</table>\n",
       "</div>"
      ],
      "text/plain": [
       "          Usage_kWh  Lagging_Current_Reactive_Power_KVarh  \\\n",
       "count  35040.000000                          35040.000000   \n",
       "mean       0.001431                              0.001089   \n",
       "std        0.012162                              0.008117   \n",
       "min        0.000000                              0.000000   \n",
       "25%        0.000111                              0.000040   \n",
       "50%        0.000369                              0.000268   \n",
       "75%        0.001136                              0.000634   \n",
       "max        0.586701                              0.337163   \n",
       "\n",
       "       Leading_Current_Reactive_Power_kVarh           CO2  \\\n",
       "count                          35040.000000  3.504000e+04   \n",
       "mean                               0.000087  4.532276e-07   \n",
       "std                                0.000781  5.486286e-06   \n",
       "min                                0.000000  0.000000e+00   \n",
       "25%                                0.000000  0.000000e+00   \n",
       "50%                                0.000000  0.000000e+00   \n",
       "75%                                0.000043  4.629616e-07   \n",
       "max                                0.051302  2.833027e-04   \n",
       "\n",
       "       Lagging_Current_Power_Factor  Leading_Current_Power_Factor  \\\n",
       "count                  35040.000000                  35040.000000   \n",
       "mean                       0.009566                      0.014186   \n",
       "std                        0.054952                      0.084609   \n",
       "min                        0.000000                      0.000000   \n",
       "25%                        0.001489                      0.001221   \n",
       "50%                        0.002096                      0.002058   \n",
       "75%                        0.002924                      0.004630   \n",
       "max                        0.917092                      0.917794   \n",
       "\n",
       "                NSM  WeekStatus_Weekday  WeekStatus_Weekend  \\\n",
       "count  35040.000000        35040.000000        35040.000000   \n",
       "mean       0.989433            0.715068            0.284932   \n",
       "std        0.101519            0.451388            0.451388   \n",
       "min        0.000000            0.000000            0.000000   \n",
       "25%        0.999984            0.000000            0.000000   \n",
       "50%        0.999995            1.000000            0.000000   \n",
       "75%        0.999998            1.000000            1.000000   \n",
       "max        0.999999            1.000000            1.000000   \n",
       "\n",
       "       Day_of_week_Friday  Day_of_week_Monday  Day_of_week_Saturday  \\\n",
       "count        35040.000000        35040.000000          35040.000000   \n",
       "mean             0.142466            0.145205              0.142466   \n",
       "std              0.349532            0.352313              0.349532   \n",
       "min              0.000000            0.000000              0.000000   \n",
       "25%              0.000000            0.000000              0.000000   \n",
       "50%              0.000000            0.000000              0.000000   \n",
       "75%              0.000000            0.000000              0.000000   \n",
       "max              1.000000            1.000000              1.000000   \n",
       "\n",
       "       Day_of_week_Sunday  Day_of_week_Thursday  Day_of_week_Tuesday  \\\n",
       "count        35040.000000          35040.000000         35040.000000   \n",
       "mean             0.142466              0.142466             0.142466   \n",
       "std              0.349532              0.349532             0.349532   \n",
       "min              0.000000              0.000000             0.000000   \n",
       "25%              0.000000              0.000000             0.000000   \n",
       "50%              0.000000              0.000000             0.000000   \n",
       "75%              0.000000              0.000000             0.000000   \n",
       "max              1.000000              1.000000             1.000000   \n",
       "\n",
       "       Day_of_week_Wednesday  Load_Type_Light_Load  Load_Type_Maximum_Load  \\\n",
       "count           35040.000000          35040.000000            35040.000000   \n",
       "mean                0.142466              0.515753                0.207534   \n",
       "std                 0.349532              0.499759                0.405547   \n",
       "min                 0.000000              0.000000                0.000000   \n",
       "25%                 0.000000              0.000000                0.000000   \n",
       "50%                 0.000000              1.000000                0.000000   \n",
       "75%                 0.000000              1.000000                0.000000   \n",
       "max                 1.000000              1.000000                1.000000   \n",
       "\n",
       "       Load_Type_Medium_Load  \n",
       "count           35040.000000  \n",
       "mean                0.276712  \n",
       "std                 0.447379  \n",
       "min                 0.000000  \n",
       "25%                 0.000000  \n",
       "50%                 0.000000  \n",
       "75%                 1.000000  \n",
       "max                 1.000000  "
      ]
     },
     "execution_count": 41,
     "metadata": {},
     "output_type": "execute_result"
    }
   ],
   "source": [
    "org_df.describe()"
   ]
  },
  {
   "cell_type": "code",
   "execution_count": 152,
   "metadata": {
    "executionInfo": {
     "elapsed": 374,
     "status": "ok",
     "timestamp": 1649588485888,
     "user": {
      "displayName": "Lalith Msd7",
      "userId": "05886998925610296696"
     },
     "user_tz": -330
    },
    "id": "ZHUtw5BRMr69"
   },
   "outputs": [],
   "source": [
    "from sklearn.model_selection import train_test_split\n",
    "\n",
    "X = org_df.drop('Usage_kWh', axis = 1)\n",
    "y = org_df['Usage_kWh']\n",
    "X_train, X_test, y_train, y_test = train_test_split(X, y, test_size = 0.4,random_state=200)\n",
    "X_val,X_test,y_val,y_test = train_test_split(X_test, y_test, test_size = 0.65,random_state=200)\n"
   ]
  },
  {
   "cell_type": "code",
   "execution_count": 153,
   "metadata": {
    "colab": {
     "base_uri": "https://localhost:8080/"
    },
    "executionInfo": {
     "elapsed": 581,
     "status": "ok",
     "timestamp": 1649588489103,
     "user": {
      "displayName": "Lalith Msd7",
      "userId": "05886998925610296696"
     },
     "user_tz": -330
    },
    "id": "UtbVoUiYPA8w",
    "outputId": "a4f0e3da-48a8-4810-881c-490d2c474195"
   },
   "outputs": [
    {
     "name": "stdout",
     "output_type": "stream",
     "text": [
      "Training data split: (21024, 18) \t (21024,)\n",
      "Testing data split:   (9111, 18) \t (9111,)\n",
      "Validation data split: (4905, 18) \t (4905,)\n"
     ]
    }
   ],
   "source": [
    "print(\"Training data split:\",X_train.shape,\"\\t\",y_train.shape)\n",
    "print(\"Testing data split:  \",X_test.shape,\"\\t\",y_test.shape)\n",
    "print(\"Validation data split:\",X_val.shape,\"\\t\",y_val.shape)"
   ]
  },
  {
   "cell_type": "code",
   "execution_count": 125,
   "metadata": {
    "executionInfo": {
     "elapsed": 624,
     "status": "ok",
     "timestamp": 1649588496253,
     "user": {
      "displayName": "Lalith Msd7",
      "userId": "05886998925610296696"
     },
     "user_tz": -330
    },
    "id": "Lr1B5YTvPO7p"
   },
   "outputs": [],
   "source": [
    "from sklearn.linear_model import LinearRegression\n",
    "from sklearn import metrics"
   ]
  },
  {
   "cell_type": "code",
   "execution_count": 264,
   "metadata": {
    "colab": {
     "base_uri": "https://localhost:8080/"
    },
    "executionInfo": {
     "elapsed": 361,
     "status": "ok",
     "timestamp": 1649588498199,
     "user": {
      "displayName": "Lalith Msd7",
      "userId": "05886998925610296696"
     },
     "user_tz": -330
    },
    "id": "ymP13qAQZ5gS",
    "outputId": "180dd63f-8ffb-48d2-e59f-33cf9a6dd1ad"
   },
   "outputs": [
    {
     "name": "stdout",
     "output_type": "stream",
     "text": [
      "Training Score:  0.9879178215797101\n"
     ]
    }
   ],
   "source": [
    "#General Mutiple Linear Regression model:\n",
    "\n",
    "#Training Data:\n",
    "lr = LinearRegression()\n",
    "lr.fit(X_train, y_train)\n",
    "print(\"Training Score: \",lr.score(X_train, y_train))\n",
    "lr_train_acc = lr.score(X_train, y_train)"
   ]
  },
  {
   "cell_type": "code",
   "execution_count": 265,
   "metadata": {
    "colab": {
     "base_uri": "https://localhost:8080/"
    },
    "executionInfo": {
     "elapsed": 377,
     "status": "ok",
     "timestamp": 1649588504276,
     "user": {
      "displayName": "Lalith Msd7",
      "userId": "05886998925610296696"
     },
     "user_tz": -330
    },
    "id": "B5SNOpj7aLsW",
    "outputId": "8b52f4b2-3566-4d06-97ed-9915d53cfdb0"
   },
   "outputs": [
    {
     "name": "stdout",
     "output_type": "stream",
     "text": [
      "Testing Score:  0.9912878467877625\n"
     ]
    }
   ],
   "source": [
    "#Testing Data:\n",
    "print(\"Testing Score: \",lr.score(X_test, y_test))\n",
    "lr_test_acc = lr.score(X_test, y_test) "
   ]
  },
  {
   "cell_type": "code",
   "execution_count": 266,
   "metadata": {
    "colab": {
     "base_uri": "https://localhost:8080/"
    },
    "executionInfo": {
     "elapsed": 381,
     "status": "ok",
     "timestamp": 1649588509068,
     "user": {
      "displayName": "Lalith Msd7",
      "userId": "05886998925610296696"
     },
     "user_tz": -330
    },
    "id": "N8uPxsRnamEK",
    "outputId": "924671cf-2270-4989-f1a0-6dcbb49bee82"
   },
   "outputs": [
    {
     "name": "stdout",
     "output_type": "stream",
     "text": [
      "Validation Score:  1.0\n"
     ]
    }
   ],
   "source": [
    "#Validation Score:\n",
    "y_v_pred = lr.predict(X_val)\n",
    "print(\"Validation Score: \",lr.score(X_val, y_v_pred))\n",
    "lr_val_acc = lr.score(X_val, y_v_pred)"
   ]
  },
  {
   "cell_type": "code",
   "execution_count": 157,
   "metadata": {
    "colab": {
     "base_uri": "https://localhost:8080/"
    },
    "executionInfo": {
     "elapsed": 11,
     "status": "ok",
     "timestamp": 1649526313157,
     "user": {
      "displayName": "Lalith Msd7",
      "userId": "05886998925610296696"
     },
     "user_tz": -330
    },
    "id": "kBsGI0p7a-E5",
    "outputId": "c10aec99-36e7-4162-d8ad-2dedc5555f13"
   },
   "outputs": [
    {
     "name": "stdout",
     "output_type": "stream",
     "text": [
      "Intercept:  0.0057199347163481296\n",
      "Slope:  [ 3.63087518e-01 -3.59818751e-01  1.55854888e+03  5.16362864e-02\n",
      " -2.08987925e-02 -5.62161223e-03  8.90619149e-06 -8.94152890e-06\n",
      "  2.88938896e-05 -3.65135505e-06 -6.49453303e-06 -2.43681230e-06\n",
      "  5.58903854e-06 -4.09013439e-05  1.89738398e-05 -2.09203435e-05\n",
      "  7.45869064e-06  1.34889882e-05]\n"
     ]
    }
   ],
   "source": [
    "#slope and Intercept\n",
    "print(\"Intercept: \", lr.intercept_)\n",
    "print(\"Slope: \",lr.coef_)"
   ]
  },
  {
   "cell_type": "code",
   "execution_count": 267,
   "metadata": {
    "colab": {
     "base_uri": "https://localhost:8080/"
    },
    "executionInfo": {
     "elapsed": 11,
     "status": "ok",
     "timestamp": 1649526621762,
     "user": {
      "displayName": "Lalith Msd7",
      "userId": "05886998925610296696"
     },
     "user_tz": -330
    },
    "id": "3bqdCe3Bbg4W",
    "outputId": "bace6af8-4861-42d0-f785-62d0eb453074"
   },
   "outputs": [
    {
     "name": "stdout",
     "output_type": "stream",
     "text": [
      "Mean Absolute Error :  0.00014424659615582094\n",
      "Mean Squared Error :  1.2981514185486945e-06\n",
      "Root Mean Squared Error :  0.0011393644801154258\n"
     ]
    }
   ],
   "source": [
    "import math\n",
    "print('Mean Absolute Error : ', metrics.mean_absolute_error(y_test, lr.predict(X_test)))\n",
    "print('Mean Squared Error : ', metrics.mean_squared_error(y_test, lr.predict(X_test)))\n",
    "print('Root Mean Squared Error : ', math.sqrt(metrics.mean_squared_error(y_test, lr.predict(X_test))))\n",
    "\n",
    "lr_mae = metrics.mean_absolute_error(y_test, lr.predict(X_test))\n",
    "lr_mse = metrics.mean_squared_error(y_test, lr.predict(X_test))\n",
    "lr_rmse =  math.sqrt(metrics.mean_squared_error(y_test, lr.predict(X_test)))"
   ]
  },
  {
   "cell_type": "code",
   "execution_count": 268,
   "metadata": {
    "colab": {
     "base_uri": "https://localhost:8080/",
     "height": 350
    },
    "executionInfo": {
     "elapsed": 458,
     "status": "ok",
     "timestamp": 1649526692663,
     "user": {
      "displayName": "Lalith Msd7",
      "userId": "05886998925610296696"
     },
     "user_tz": -330
    },
    "id": "EoFWm4cPcUVv",
    "outputId": "a51f96b0-8cac-4272-826d-799c51856378"
   },
   "outputs": [
    {
     "data": {
      "image/png": "[encoded data removed]",
      "text/plain": [
       "<Figure size 504x360 with 1 Axes>"
      ]
     },
     "metadata": {
      "needs_background": "light"
     },
     "output_type": "display_data"
    }
   ],
   "source": [
    "plt.scatter(y_test,lr.predict(X_test),color = 'blue')\n",
    " \n",
    "plt.plot(y_test, lr.predict(X_test), color = 'red')\n",
    "plt.title('Linear Regression')\n",
    "plt.xlabel('actual')\n",
    "plt.ylabel('predicted')\n",
    " \n",
    "plt.show()"
   ]
  },
  {
   "cell_type": "code",
   "execution_count": 269,
   "metadata": {
    "colab": {
     "base_uri": "https://localhost:8080/"
    },
    "executionInfo": {
     "elapsed": 997,
     "status": "ok",
     "timestamp": 1649528075929,
     "user": {
      "displayName": "Lalith Msd7",
      "userId": "05886998925610296696"
     },
     "user_tz": -330
    },
    "id": "NYtMy5WRc9XP",
    "outputId": "ea658aac-b552-4765-eba0-175074a5066e"
   },
   "outputs": [
    {
     "name": "stdout",
     "output_type": "stream",
     "text": [
      "Training Score:  0.9997465375632968\n"
     ]
    }
   ],
   "source": [
    "#Polynomial Regression:\n",
    "\n",
    "from sklearn.preprocessing import PolynomialFeatures\n",
    " \n",
    "poly = PolynomialFeatures(degree =2)\n",
    "X_tr_poly = poly.fit_transform(X_train)\n",
    "poly.fit(X_tr_poly, y_train)\n",
    "\n",
    "lin2 = LinearRegression()\n",
    "lin2.fit(X_tr_poly, y_train)\n",
    "print(\"Training Score: \",lin2.score(X_tr_poly, y_train))\n",
    "\n",
    "lin2_train_acc = lin2.score(X_tr_poly, y_train)"
   ]
  },
  {
   "cell_type": "code",
   "execution_count": 270,
   "metadata": {
    "colab": {
     "base_uri": "https://localhost:8080/"
    },
    "executionInfo": {
     "elapsed": 348,
     "status": "ok",
     "timestamp": 1649528080679,
     "user": {
      "displayName": "Lalith Msd7",
      "userId": "05886998925610296696"
     },
     "user_tz": -330
    },
    "id": "ye-VEZ4EenOw",
    "outputId": "0a534ffa-424a-48e8-c0df-8b55e140b7cf"
   },
   "outputs": [
    {
     "name": "stdout",
     "output_type": "stream",
     "text": [
      "Testing Score:  0.9995513390961455\n"
     ]
    }
   ],
   "source": [
    "#Testing data:\n",
    "X_te_poly = poly.fit_transform(X_test)\n",
    "print(\"Testing Score: \",lin2.score(X_te_poly, y_test))\n",
    "\n",
    "lin2_test_acc = lin2.score(X_te_poly, y_test)"
   ]
  },
  {
   "cell_type": "code",
   "execution_count": 272,
   "metadata": {
    "colab": {
     "base_uri": "https://localhost:8080/"
    },
    "executionInfo": {
     "elapsed": 360,
     "status": "ok",
     "timestamp": 1649528084884,
     "user": {
      "displayName": "Lalith Msd7",
      "userId": "05886998925610296696"
     },
     "user_tz": -330
    },
    "id": "s5wGCUUvfgSE",
    "outputId": "bc77951d-6d98-4459-d349-ae4aaff88228"
   },
   "outputs": [
    {
     "name": "stdout",
     "output_type": "stream",
     "text": [
      "Testing Score:  0.9995513390961455\n"
     ]
    }
   ],
   "source": [
    "#confirmation with r2_score.  \n",
    "y_pred_poly = lin2.predict(X_te_poly)\n",
    "print(\"Testing Score: \",metrics.r2_score(y_test, y_pred_poly))"
   ]
  },
  {
   "cell_type": "code",
   "execution_count": 273,
   "metadata": {
    "id": "6yX5CFVxf5f_"
   },
   "outputs": [
    {
     "name": "stdout",
     "output_type": "stream",
     "text": [
      "Validation Score:  0.9993045476934791\n",
      "validation Score:  0.9993045476934791\n"
     ]
    }
   ],
   "source": [
    "#VALIDATION\n",
    "\n",
    "X_V_poly = poly.fit_transform(X_val)\n",
    "print(\"Validation Score: \",lin2.score(X_V_poly, y_val))\n",
    "y_pred_V_poly = lin2.predict(X_V_poly)\n",
    "print(\"validation Score: \",metrics.r2_score(y_val, y_pred_V_poly))\n",
    "\n",
    "lin2_val_acc = metrics.r2_score(y_val, y_pred_V_poly)"
   ]
  },
  {
   "cell_type": "code",
   "execution_count": 274,
   "metadata": {
    "colab": {
     "base_uri": "https://localhost:8080/"
    },
    "executionInfo": {
     "elapsed": 575,
     "status": "ok",
     "timestamp": 1649528089295,
     "user": {
      "displayName": "Lalith Msd7",
      "userId": "05886998925610296696"
     },
     "user_tz": -330
    },
    "id": "3XlM0K1BgvW4",
    "outputId": "7d61ae6e-85ff-48b3-92bf-5b9ab6987487"
   },
   "outputs": [
    {
     "name": "stdout",
     "output_type": "stream",
     "text": [
      "Mean Absolute Error :  7.809327355517641e-05\n",
      "Mean Squared Error :  6.685256498565161e-08\n",
      "Root Mean Squared Error :  0.0002585586296870627\n"
     ]
    }
   ],
   "source": [
    "import math\n",
    "print('Mean Absolute Error : ', metrics.mean_absolute_error(y_test, y_pred_poly))\n",
    "print('Mean Squared Error : ', metrics.mean_squared_error(y_test, y_pred_poly))\n",
    "print('Root Mean Squared Error : ', math.sqrt(metrics.mean_squared_error(y_test, y_pred_poly)))\n",
    "\n",
    "lin2_mae = metrics.mean_absolute_error(y_test, y_pred_poly)\n",
    "lin2_mse = metrics.mean_squared_error(y_test, y_pred_poly)\n",
    "lin2_rmse = math.sqrt(metrics.mean_squared_error(y_test, y_pred_poly))"
   ]
  },
  {
   "cell_type": "code",
   "execution_count": 275,
   "metadata": {
    "colab": {
     "base_uri": "https://localhost:8080/",
     "height": 350
    },
    "executionInfo": {
     "elapsed": 459,
     "status": "ok",
     "timestamp": 1649528367777,
     "user": {
      "displayName": "Lalith Msd7",
      "userId": "05886998925610296696"
     },
     "user_tz": -330
    },
    "id": "zIk3FW40hFvq",
    "outputId": "1c8ec3e0-6d71-4698-fed5-acf35fee731c"
   },
   "outputs": [
    {
     "data": {
      "image/png": "[encoded data removed]",
      "text/plain": [
       "<Figure size 504x360 with 1 Axes>"
      ]
     },
     "metadata": {
      "needs_background": "light"
     },
     "output_type": "display_data"
    }
   ],
   "source": [
    "plt.scatter(y_test, y_pred_poly, color = 'blue')\n",
    " \n",
    "plt.plot(y_test, y_pred_poly, color = 'red')\n",
    "#plt.plot(X_train, y_train, \"b.\",label='Training points')\n",
    "#plt.plot(X_te_poly, y_pred_poly, color = 'red')\n",
    "plt.title('Polynomial Regression')\n",
    "plt.xlabel('Actual')\n",
    "plt.ylabel('Predict')\n",
    " \n",
    "plt.show()"
   ]
  },
  {
   "cell_type": "code",
   "execution_count": 276,
   "metadata": {
    "colab": {
     "base_uri": "https://localhost:8080/"
    },
    "executionInfo": {
     "elapsed": 371,
     "status": "ok",
     "timestamp": 1649528604915,
     "user": {
      "displayName": "Lalith Msd7",
      "userId": "05886998925610296696"
     },
     "user_tz": -330
    },
    "id": "icl_2mifkKrB",
    "outputId": "5f45297d-689b-4a19-a50b-0c315afd9a8e"
   },
   "outputs": [
    {
     "name": "stdout",
     "output_type": "stream",
     "text": [
      "68396.27833371339\n",
      "[-8.00700687e-03  5.51555542e+03  5.00418462e+03  6.83789983e+03\n",
      " -2.37378439e+05 -2.64459250e+04  1.22943414e+07 -3.86345992e+04\n",
      "  2.99185500e+04 -1.26829190e+04  1.25218571e+04  1.51705142e+04\n",
      "  1.57153628e+04 -2.03147048e+04  2.39535601e+03  2.36240149e+04\n",
      "  2.31702504e+04  5.21892751e+04 -1.00779632e+05 -2.35952609e+00\n",
      " -3.78750751e+01 -1.53451961e+02  1.72581922e+00 -1.19208996e+00\n",
      " -4.62891253e-01 -1.19712604e+04 -2.24944804e+03  6.25244632e+03\n",
      "  6.25245829e+03 -3.46929712e+03 -3.46936306e+03  6.25254633e+03\n",
      "  6.25251181e+03  6.25249343e+03  2.04193807e+02  2.03875747e+02\n",
      "  2.03996410e+02  3.77779057e+01  5.22337922e+05 -1.10241387e+01\n",
      "  8.73492319e-01 -6.67904035e+00 -1.26943655e+03 -2.12243825e+03\n",
      " -4.33197705e+02 -4.33246979e+02  4.19716683e+02  4.19749736e+02\n",
      " -4.33342851e+02 -4.33342873e+02 -4.33311798e+02 -3.29504963e+03\n",
      " -3.29606838e+03 -3.29504650e+03 -1.79379905e+06  2.89786749e+02\n",
      " -1.91453178e+03 -4.01504451e+02 -2.87441600e+03 -2.53519708e+03\n",
      " -7.16730353e+02 -7.12042207e+02 -1.13455271e+03 -1.13701019e+03\n",
      " -8.30326377e+02 -7.93381977e+02 -7.64571783e+02 -1.49390287e+03\n",
      " -1.41129595e+03 -1.27924733e+03 -1.18468337e+00 -1.24495786e+00\n",
      " -1.19704778e+00  1.70235447e+05  1.07394290e+05  5.44823461e+03\n",
      "  5.44823174e+03  6.82893923e+04  6.82893878e+04  5.44824438e+03\n",
      "  5.44823974e+03  5.44823698e+03  6.16960327e+04  6.16960431e+04\n",
      "  6.16959798e+04 -1.53752921e+00 -1.58698979e+00  2.04077982e+04\n",
      "  2.70471973e+04  7.61771270e+03  7.61771185e+03  9.78307985e+02\n",
      "  9.78311864e+02  7.61770066e+03  7.61770572e+03  7.61770718e+03\n",
      " -1.57802545e+03 -1.57835947e+03 -1.57806245e+03 -3.65535048e+00\n",
      " -8.51535056e+06 -4.04817324e+06  3.43014707e+05  3.43014706e+05\n",
      " -4.12416262e+06 -4.12416262e+06  3.43014706e+05  3.43014707e+05\n",
      "  3.43014706e+05 -4.12200185e+06 -4.12210389e+06 -4.12204216e+06\n",
      "  1.11177314e+04  0.00000000e+00 -1.98919715e+04  1.40516655e+04\n",
      "  0.00000000e+00  0.00000000e+00  1.50548861e+04 -1.00246165e+04\n",
      " -1.70678245e+04 -1.05278348e+05 -1.03653015e+05  2.34575056e+05\n",
      " -1.10384123e+04  0.00000000e+00  0.00000000e+00 -2.22240465e+04\n",
      " -3.22305820e+04  0.00000000e+00  0.00000000e+00  0.00000000e+00\n",
      " -9.50213819e+04 -6.69070279e+04  1.54032971e+05 -1.98919715e+04\n",
      "  0.00000000e+00  0.00000000e+00  0.00000000e+00  0.00000000e+00\n",
      "  0.00000000e+00  0.00000000e+00  4.29409870e+04  4.77325731e+04\n",
      "  5.08198007e+04  1.40516655e+04  0.00000000e+00  0.00000000e+00\n",
      "  0.00000000e+00  0.00000000e+00  0.00000000e+00 -5.01510614e+04\n",
      " -4.53594753e+04 -4.22722477e+04 -2.22240465e+04  0.00000000e+00\n",
      "  0.00000000e+00  0.00000000e+00  0.00000000e+00 -3.69022664e+04\n",
      " -5.85997017e+04  6.17755982e+04 -3.22305820e+04  0.00000000e+00\n",
      "  0.00000000e+00  0.00000000e+00 -1.74340426e+04 -3.91314778e+04\n",
      "  8.12438220e+04  1.50548861e+04  0.00000000e+00  0.00000000e+00\n",
      " -1.93209412e+04 -1.45293551e+04 -1.14421275e+04 -1.00246165e+04\n",
      "  0.00000000e+00  8.12800265e+03  1.29195888e+04  1.60068163e+04\n",
      " -1.70678245e+04  9.85760573e+02  5.77734666e+03  8.86457423e+03\n",
      "  5.07545685e+04  0.00000000e+00  0.00000000e+00  1.54206728e+04\n",
      "  0.00000000e+00 -1.72987450e+05]\n"
     ]
    }
   ],
   "source": [
    "print(lin2.intercept_)\n",
    "print(lin2.coef_)"
   ]
  },
  {
   "cell_type": "code",
   "execution_count": 277,
   "metadata": {
    "colab": {
     "base_uri": "https://localhost:8080/"
    },
    "executionInfo": {
     "elapsed": 1165,
     "status": "ok",
     "timestamp": 1649528976761,
     "user": {
      "displayName": "Lalith Msd7",
      "userId": "05886998925610296696"
     },
     "user_tz": -330
    },
    "id": "njPF79rHhX97",
    "outputId": "0c325c9a-273f-4bc6-c71e-85829edbf632"
   },
   "outputs": [
    {
     "name": "stdout",
     "output_type": "stream",
     "text": [
      "Training Score:  0.9986969350082858\n"
     ]
    }
   ],
   "source": [
    "#Decision Tree Regressor:\n",
    "from sklearn.tree import DecisionTreeRegressor \n",
    "  \n",
    "# create a regressor object\n",
    "regressor = DecisionTreeRegressor(max_depth = 7,random_state = 200) \n",
    "  \n",
    "# fit the regressor with X and Y data\n",
    "regressor.fit(X_train, y_train)\n",
    "print(\"Training Score: \",regressor.score(X_train,y_train))\n",
    "\n",
    "regressor_train_acc = regressor.score(X_train,y_train)"
   ]
  },
  {
   "cell_type": "code",
   "execution_count": 278,
   "metadata": {
    "colab": {
     "base_uri": "https://localhost:8080/"
    },
    "executionInfo": {
     "elapsed": 6,
     "status": "ok",
     "timestamp": 1649529170137,
     "user": {
      "displayName": "Lalith Msd7",
      "userId": "05886998925610296696"
     },
     "user_tz": -330
    },
    "id": "BZmlVxgYlgOn",
    "outputId": "3767d1e7-be96-41ab-da90-028dce2783ed"
   },
   "outputs": [
    {
     "name": "stdout",
     "output_type": "stream",
     "text": [
      "Testing Score:  0.9902899017959003\n",
      "Testing Score:  0.9902899017959003\n"
     ]
    }
   ],
   "source": [
    "#Testing data:\n",
    "\n",
    "y_dtr_pred = regressor.predict(X_test)\n",
    "print(\"Testing Score: \",regressor.score(X_test,y_test))\n",
    "print(\"Testing Score: \",metrics.r2_score(y_test,y_dtr_pred))\n",
    "\n",
    "regressor_test_acc = regressor.score(X_test,y_test)"
   ]
  },
  {
   "cell_type": "code",
   "execution_count": 280,
   "metadata": {
    "id": "P3mXTqWTmQQA"
   },
   "outputs": [
    {
     "name": "stdout",
     "output_type": "stream",
     "text": [
      "Testing Score:  0.9921872821713136\n",
      "Testing Score:  0.9921872821713136\n"
     ]
    }
   ],
   "source": [
    "#Validation data:\n",
    "\n",
    "y_dtr_V_pred = regressor.predict(X_val)\n",
    "print(\"Testing Score: \",regressor.score(X_val,y_val))\n",
    "print(\"Testing Score: \",metrics.r2_score(y_val,y_dtr_V_pred))\n",
    "\n",
    "regressor_val_acc = regressor.score(X_val,y_val)"
   ]
  },
  {
   "cell_type": "code",
   "execution_count": 283,
   "metadata": {},
   "outputs": [
    {
     "name": "stdout",
     "output_type": "stream",
     "text": [
      "Mean Absolute Error :  0.00022858249820812044\n",
      "Mean Squared Error :  1.4468498717622812e-06\n",
      "Root Mean Squared Error :  0.0012028507271321248\n"
     ]
    }
   ],
   "source": [
    "import math\n",
    "print('Mean Absolute Error : ', metrics.mean_absolute_error(y_test,y_dtr_pred))\n",
    "print('Mean Squared Error : ', metrics.mean_squared_error(y_test,y_dtr_pred))\n",
    "print('Root Mean Squared Error : ', math.sqrt(metrics.mean_squared_error(y_test,y_dtr_pred)))\n",
    "\n",
    "regressor_mae = metrics.mean_absolute_error(y_test,y_dtr_pred)\n",
    "regressor_mse = metrics.mean_squared_error(y_test,y_dtr_pred)\n",
    "regressor_rmse =  math.sqrt(metrics.mean_squared_error(y_test,y_dtr_pred))"
   ]
  },
  {
   "cell_type": "code",
   "execution_count": 281,
   "metadata": {
    "colab": {
     "base_uri": "https://localhost:8080/",
     "height": 350
    },
    "executionInfo": {
     "elapsed": 1283,
     "status": "ok",
     "timestamp": 1649529475721,
     "user": {
      "displayName": "Lalith Msd7",
      "userId": "05886998925610296696"
     },
     "user_tz": -330
    },
    "id": "zD4JBC31nR6R",
    "outputId": "1f8e391a-27c3-44bb-b1b1-58f30f24fa0d"
   },
   "outputs": [
    {
     "data": {
      "image/png": "[encoded data removed]",
      "text/plain": [
       "<Figure size 504x360 with 1 Axes>"
      ]
     },
     "metadata": {
      "needs_background": "light"
     },
     "output_type": "display_data"
    }
   ],
   "source": [
    "plt.figure()\n",
    "plt.scatter(y_test, y_dtr_pred, s=20, edgecolor=\"black\", c=\"darkorange\", label=\"data\")\n",
    "plt.plot(y_test, y_dtr_pred, color=\"cornflowerblue\", label=\"max_depth=2\", linewidth=2)\n",
    "plt.xlabel(\"data\")\n",
    "plt.ylabel(\"target\")\n",
    "plt.title(\"Decision Tree Regression\")\n",
    "plt.legend()\n",
    "plt.show()"
   ]
  },
  {
   "cell_type": "code",
   "execution_count": 285,
   "metadata": {
    "id": "g33zEDRsnknF"
   },
   "outputs": [],
   "source": [
    "#ENSEMBLED MODEL Stacking Regressor\n",
    "\n",
    "from sklearn.ensemble import StackingRegressor\n",
    "from sklearn.ensemble import RandomForestRegressor\n",
    "\n",
    "estimator_list = [\n",
    "        ('lr',lr),\n",
    "        ('lin2',lin2),\n",
    "        ('regressor',regressor) ]\n",
    "\n",
    "stack_model = StackingRegressor(estimators=estimator_list,final_estimator=RandomForestRegressor(n_estimators=23,random_state=150))"
   ]
  },
  {
   "cell_type": "code",
   "execution_count": 286,
   "metadata": {
    "colab": {
     "base_uri": "https://localhost:8080/"
    },
    "executionInfo": {
     "elapsed": 4558,
     "status": "ok",
     "timestamp": 1649529645640,
     "user": {
      "displayName": "Lalith Msd7",
      "userId": "05886998925610296696"
     },
     "user_tz": -330
    },
    "id": "7ouWEUzwoDl2",
    "outputId": "7b714ad4-5c8e-43d7-ae6b-2bb7dbf12636"
   },
   "outputs": [
    {
     "name": "stdout",
     "output_type": "stream",
     "text": [
      "Training Score:  0.9917513688011506\n"
     ]
    }
   ],
   "source": [
    "stack_model.fit(X_train,y_train)\n",
    "print(\"Training Score: \",stack_model.score(X_train,y_train))\n",
    "\n",
    "stack_train_acc = stack_model.score(X_train,y_train)"
   ]
  },
  {
   "cell_type": "code",
   "execution_count": 287,
   "metadata": {
    "colab": {
     "base_uri": "https://localhost:8080/"
    },
    "executionInfo": {
     "elapsed": 6,
     "status": "ok",
     "timestamp": 1649529770797,
     "user": {
      "displayName": "Lalith Msd7",
      "userId": "05886998925610296696"
     },
     "user_tz": -330
    },
    "id": "Ieyt4u2HoNTv",
    "outputId": "7ccbdbb0-8614-4dbf-9f35-25434fe8b205"
   },
   "outputs": [
    {
     "name": "stdout",
     "output_type": "stream",
     "text": [
      "Testing Score:  0.9977120344666668\n",
      "Testing Score:  0.9977120344666668\n"
     ]
    }
   ],
   "source": [
    "#Testing Data:\n",
    "\n",
    "y_stack_pred = stack_model.predict(X_test)\n",
    "print(\"Testing Score: \",stack_model.score(X_test,y_test))\n",
    "print(\"Testing Score: \",metrics.r2_score(y_test,y_stack_pred))\n",
    "\n",
    "stack_test_acc = stack_model.score(X_test,y_test)"
   ]
  },
  {
   "cell_type": "code",
   "execution_count": 288,
   "metadata": {},
   "outputs": [
    {
     "name": "stdout",
     "output_type": "stream",
     "text": [
      "Testing Score:  0.9906164963514872\n",
      "Testing Score:  0.9906164963514872\n"
     ]
    }
   ],
   "source": [
    "#Validation data:\n",
    "\n",
    "y_stk_V_pred = stack_model.predict(X_val)\n",
    "print(\"Testing Score: \",stack_model.score(X_val,y_val))\n",
    "print(\"Testing Score: \",metrics.r2_score(y_val,y_stk_V_pred))\n",
    "\n",
    "stack_val_acc = stack_model.score(X_val,y_val)"
   ]
  },
  {
   "cell_type": "code",
   "execution_count": 291,
   "metadata": {},
   "outputs": [
    {
     "name": "stdout",
     "output_type": "stream",
     "text": [
      "Mean Absolute Error :  0.00011780281646258742\n",
      "Mean Squared Error :  3.4091752409898515e-07\n",
      "Root Mean Squared Error :  0.0005838814298288525\n"
     ]
    }
   ],
   "source": [
    "import math\n",
    "print('Mean Absolute Error : ', metrics.mean_absolute_error(y_test,y_stack_pred))\n",
    "print('Mean Squared Error : ', metrics.mean_squared_error(y_test,y_stack_pred))\n",
    "print('Root Mean Squared Error : ', math.sqrt(metrics.mean_squared_error(y_test,y_stack_pred)))\n",
    "\n",
    "stack_mae = metrics.mean_absolute_error(y_test,y_stack_pred)\n",
    "stack_mse = metrics.mean_squared_error(y_test,y_stack_pred)\n",
    "stack_rmse =  math.sqrt(metrics.mean_squared_error(y_test,y_stack_pred))"
   ]
  },
  {
   "cell_type": "code",
   "execution_count": 351,
   "metadata": {
    "colab": {
     "base_uri": "https://localhost:8080/",
     "height": 350
    },
    "executionInfo": {
     "elapsed": 938,
     "status": "ok",
     "timestamp": 1649530298823,
     "user": {
      "displayName": "Lalith Msd7",
      "userId": "05886998925610296696"
     },
     "user_tz": -330
    },
    "id": "9BRrjhOsos6h",
    "outputId": "f74157e8-14a6-4213-cd32-0f7fa27c107e"
   },
   "outputs": [
    {
     "data": {
      "image/png": "[encoded data removed]",
      "text/plain": [
       "<Figure size 504x360 with 1 Axes>"
      ]
     },
     "metadata": {
      "needs_background": "light"
     },
     "output_type": "display_data"
    }
   ],
   "source": [
    "plt.scatter(y_test, y_stack_pred, color = 'green')\n",
    " \n",
    "plt.plot(y_test, y_stack_pred, color = 'yellow')\n",
    "#plt.plot(y_train, y_train, \"b.\",label='Training points')\n",
    "#plt.plot(X_te_poly, y_pred_poly, color = 'red')\n",
    "plt.title('Stacking Regression')\n",
    "plt.xlabel('Actual')\n",
    "plt.ylabel('Predict')\n",
    " \n",
    "plt.show()"
   ]
  },
  {
   "cell_type": "code",
   "execution_count": 298,
   "metadata": {
    "id": "wdXh_xWgqQ8K"
   },
   "outputs": [],
   "source": [
    "#traning acc of all models\n",
    "\n",
    "acc_train_lst = {\n",
    "    'Multiple Linear Regression':lr_train_acc,\n",
    "    'Polynomial Regression':lin2_train_acc,\n",
    "    'Decision Tree Regressor':regressor_train_acc\n",
    "}\n",
    "\n",
    "acc_test_lst = {\n",
    "    'Multiple Linear Regression':lr_test_acc,\n",
    "    'Polynomial Regression':lin2_test_acc,\n",
    "    'Decision Tree Regressor':regressor_test_acc\n",
    "}\n",
    "\n",
    "acc_val_lst = {\n",
    "    'Multiple Linear Regression':lr_val_acc,\n",
    "    'Polynomial Regression':lin2_val_acc,\n",
    "    'Decision Tree Regressor':regressor_val_acc\n",
    "}\n",
    "\n",
    "\n",
    "err_mae = {\n",
    "    'Multiple Linear Regression':lr_mae,\n",
    "    'Polynomial Regression':lin2_mae,\n",
    "    'Decision Tree Regressor':regressor_mae\n",
    "}\n",
    "\n",
    "err_mse = {\n",
    "    'Multiple Linear Regression':lr_mse,\n",
    "    'Polynomial Regression':lin2_mse,\n",
    "    'Decision Tree Regressor':regressor_mse\n",
    "}\n",
    "\n",
    "err_rmse = {\n",
    "    'Multiple Linear Regression':lr_rmse,\n",
    "    'Polynomial Regression':lin2_rmse,\n",
    "    'Decision Tree Regressor':regressor_rmse\n",
    "}\n",
    "\n"
   ]
  },
  {
   "cell_type": "code",
   "execution_count": 304,
   "metadata": {},
   "outputs": [
    {
     "data": {
      "text/html": [
       "<div>\n",
       "<style scoped>\n",
       "    .dataframe tbody tr th:only-of-type {\n",
       "        vertical-align: middle;\n",
       "    }\n",
       "\n",
       "    .dataframe tbody tr th {\n",
       "        vertical-align: top;\n",
       "    }\n",
       "\n",
       "    .dataframe thead th {\n",
       "        text-align: right;\n",
       "    }\n",
       "</style>\n",
       "<table border=\"1\" class=\"dataframe\">\n",
       "  <thead>\n",
       "    <tr style=\"text-align: right;\">\n",
       "      <th></th>\n",
       "      <th>r2score Training</th>\n",
       "      <th>r2score Testing</th>\n",
       "      <th>r2score Validation</th>\n",
       "      <th>MAE</th>\n",
       "      <th>MSE</th>\n",
       "      <th>RMSE</th>\n",
       "    </tr>\n",
       "  </thead>\n",
       "  <tbody>\n",
       "    <tr>\n",
       "      <th>Multiple Linear Regression</th>\n",
       "      <td>0.987918</td>\n",
       "      <td>0.991288</td>\n",
       "      <td>1.000000</td>\n",
       "      <td>0.000144</td>\n",
       "      <td>1.298151e-06</td>\n",
       "      <td>0.001139</td>\n",
       "    </tr>\n",
       "    <tr>\n",
       "      <th>Polynomial Regression</th>\n",
       "      <td>0.999747</td>\n",
       "      <td>0.999551</td>\n",
       "      <td>0.999305</td>\n",
       "      <td>0.000078</td>\n",
       "      <td>6.685256e-08</td>\n",
       "      <td>0.000259</td>\n",
       "    </tr>\n",
       "    <tr>\n",
       "      <th>Decision Tree Regressor</th>\n",
       "      <td>0.998697</td>\n",
       "      <td>0.990290</td>\n",
       "      <td>0.992187</td>\n",
       "      <td>0.000229</td>\n",
       "      <td>1.446850e-06</td>\n",
       "      <td>0.001203</td>\n",
       "    </tr>\n",
       "  </tbody>\n",
       "</table>\n",
       "</div>"
      ],
      "text/plain": [
       "                            r2score Training  r2score Testing  \\\n",
       "Multiple Linear Regression          0.987918         0.991288   \n",
       "Polynomial Regression               0.999747         0.999551   \n",
       "Decision Tree Regressor             0.998697         0.990290   \n",
       "\n",
       "                            r2score Validation       MAE           MSE  \\\n",
       "Multiple Linear Regression            1.000000  0.000144  1.298151e-06   \n",
       "Polynomial Regression                 0.999305  0.000078  6.685256e-08   \n",
       "Decision Tree Regressor               0.992187  0.000229  1.446850e-06   \n",
       "\n",
       "                                RMSE  \n",
       "Multiple Linear Regression  0.001139  \n",
       "Polynomial Regression       0.000259  \n",
       "Decision Tree Regressor     0.001203  "
      ]
     },
     "execution_count": 304,
     "metadata": {},
     "output_type": "execute_result"
    }
   ],
   "source": [
    "tra_df = pd.DataFrame.from_dict(acc_train_lst, orient = 'index' , columns=['r2score Training'])\n",
    "tes_df = pd.DataFrame.from_dict(acc_test_lst, orient = 'index' , columns=['r2score Testing'])\n",
    "val_df = pd.DataFrame.from_dict(acc_val_lst , orient = 'index' , columns=['r2score Validation'])\n",
    "mae_df = pd.DataFrame.from_dict(err_mae, orient = 'index' , columns=['MAE'])\n",
    "mse_df = pd.DataFrame.from_dict(err_mse, orient = 'index' , columns=['MSE'])\n",
    "rmse_df = pd.DataFrame.from_dict(err_rmse, orient = 'index' , columns=['RMSE'])\n",
    "compare_df = pd.concat([tra_df, tes_df, val_df, mae_df, mse_df, rmse_df], axis=1)\n",
    "compare_df"
   ]
  },
  {
   "cell_type": "code",
   "execution_count": 313,
   "metadata": {},
   "outputs": [
    {
     "data": {
      "text/html": [
       "<div>\n",
       "<style scoped>\n",
       "    .dataframe tbody tr th:only-of-type {\n",
       "        vertical-align: middle;\n",
       "    }\n",
       "\n",
       "    .dataframe tbody tr th {\n",
       "        vertical-align: top;\n",
       "    }\n",
       "\n",
       "    .dataframe thead th {\n",
       "        text-align: right;\n",
       "    }\n",
       "</style>\n",
       "<table border=\"1\" class=\"dataframe\">\n",
       "  <thead>\n",
       "    <tr style=\"text-align: right;\">\n",
       "      <th></th>\n",
       "      <th>r2score Training</th>\n",
       "      <th>r2score Testing</th>\n",
       "      <th>r2score Validation</th>\n",
       "      <th>MAE</th>\n",
       "      <th>MSE</th>\n",
       "      <th>RMSE</th>\n",
       "    </tr>\n",
       "  </thead>\n",
       "  <tbody>\n",
       "    <tr>\n",
       "      <th>Stacking Regressor(ENSEMBLED)</th>\n",
       "      <td>0.991751</td>\n",
       "      <td>0.997712</td>\n",
       "      <td>0.990616</td>\n",
       "      <td>0.000118</td>\n",
       "      <td>3.409175e-07</td>\n",
       "      <td>0.000584</td>\n",
       "    </tr>\n",
       "  </tbody>\n",
       "</table>\n",
       "</div>"
      ],
      "text/plain": [
       "                               r2score Training  r2score Testing  \\\n",
       "Stacking Regressor(ENSEMBLED)          0.991751         0.997712   \n",
       "\n",
       "                               r2score Validation       MAE           MSE  \\\n",
       "Stacking Regressor(ENSEMBLED)            0.990616  0.000118  3.409175e-07   \n",
       "\n",
       "                                   RMSE  \n",
       "Stacking Regressor(ENSEMBLED)  0.000584  "
      ]
     },
     "execution_count": 313,
     "metadata": {},
     "output_type": "execute_result"
    }
   ],
   "source": [
    "en_data = {'r2score Training':stack_train_acc,'r2score Testing':stack_test_acc,'r2score Validation':stack_val_acc,\n",
    "           'MAE':stack_mae,'MSE':stack_mse,'RMSE':stack_rmse }\n",
    "ensem_df = pd.DataFrame(en_data, index =['Stacking Regressor(ENSEMBLED)'])\n",
    "ensem_df"
   ]
  },
  {
   "cell_type": "code",
   "execution_count": 328,
   "metadata": {},
   "outputs": [
    {
     "name": "stdout",
     "output_type": "stream",
     "text": [
      "[0.98116532 0.9828777  0.98790612 0.98945737 0.98922095 0.9963197\n",
      " 0.98822878 0.98969387 0.93918862 0.9893236 ]\n",
      "0.9833382031389982\n"
     ]
    }
   ],
   "source": [
    "from sklearn.model_selection import KFold,cross_val_score\n",
    "kfold1=KFold(10)\n",
    "scores=cross_val_score(lr, X_train, y_train, cv=kfold1)\n",
    "print(scores)\n",
    "print (np.mean(scores))"
   ]
  },
  {
   "cell_type": "code",
   "execution_count": 331,
   "metadata": {},
   "outputs": [
    {
     "name": "stdout",
     "output_type": "stream",
     "text": [
      "[0.98116532 0.9828777  0.98790612 0.98945737 0.98922095 0.9963197\n",
      " 0.98822878 0.98969387 0.93918862 0.9893236 ]\n",
      "0.9833382031389982\n"
     ]
    }
   ],
   "source": [
    "from sklearn.model_selection import KFold,cross_val_score\n",
    "kfold1=KFold(10)\n",
    "scores=cross_val_score(lin2, X_train, y_train, cv=kfold1)\n",
    "print(scores)\n",
    "print (np.mean(scores))"
   ]
  },
  {
   "cell_type": "code",
   "execution_count": 332,
   "metadata": {},
   "outputs": [
    {
     "name": "stdout",
     "output_type": "stream",
     "text": [
      "[0.77350665 0.97517297 0.99345695 0.99719318 0.9754549  0.99133498\n",
      " 0.97243875 0.99837398 0.9684845  0.97859178]\n",
      "0.9624008644648194\n"
     ]
    }
   ],
   "source": [
    "from sklearn.model_selection import KFold,cross_val_score\n",
    "kfold1=KFold(10)\n",
    "scores=cross_val_score(regressor, X_train, y_train, cv=kfold1)\n",
    "print(scores)\n",
    "print (np.mean(scores))"
   ]
  },
  {
   "cell_type": "code",
   "execution_count": 334,
   "metadata": {},
   "outputs": [
    {
     "name": "stdout",
     "output_type": "stream",
     "text": [
      "[0.99652209 0.98803119 0.98770674 0.98545298 0.9938258  0.99402305\n",
      " 0.98942225 0.9976252  0.95226254 0.99378337]\n",
      "0.9878655190218604\n"
     ]
    }
   ],
   "source": [
    "from sklearn.model_selection import KFold,cross_val_score\n",
    "kfold1=KFold(10)\n",
    "scores=cross_val_score(stack_model, X_train, y_train, cv=kfold1)\n",
    "print(scores)\n",
    "print (np.mean(scores))"
   ]
  },
  {
   "cell_type": "code",
   "execution_count": 329,
   "metadata": {},
   "outputs": [
    {
     "name": "stdout",
     "output_type": "stream",
     "text": [
      "[0.98990733 0.99652982 0.99304328 0.99744409 0.98707631 0.99312955\n",
      " 0.98904638 0.98706372 0.97810941 0.99331441]\n",
      "0.9904664288580728\n"
     ]
    }
   ],
   "source": [
    "from sklearn.model_selection import KFold,cross_val_score\n",
    "kfold1=KFold(10)\n",
    "scores=cross_val_score(lr, X_test, y_test, cv=kfold1)\n",
    "print(scores)\n",
    "print (np.mean(scores))"
   ]
  },
  {
   "cell_type": "code",
   "execution_count": 350,
   "metadata": {
    "scrolled": true
   },
   "outputs": [
    {
     "name": "stdout",
     "output_type": "stream",
     "text": [
      "[0.98990733 0.99652982 0.99304328 0.99744409 0.98707631 0.99312955\n",
      " 0.98904638 0.98706372 0.97810941 0.99331441]\n",
      "0.9904664288580728\n"
     ]
    }
   ],
   "source": [
    "from sklearn.model_selection import KFold,cross_val_score\n",
    "kfold1=KFold(10)\n",
    "scores=cross_val_score(lin2, X_test, y_test, cv=kfold1)\n",
    "print(scores)\n",
    "print (np.mean(scores))"
   ]
  },
  {
   "cell_type": "code",
   "execution_count": 336,
   "metadata": {},
   "outputs": [
    {
     "name": "stdout",
     "output_type": "stream",
     "text": [
      "[0.97448488 0.97673808 0.97918624 0.99048223 0.97821964 0.95268333\n",
      " 0.86387837 0.9583304  0.99267895 0.97826748]\n",
      "0.9644949590156842\n"
     ]
    }
   ],
   "source": [
    "from sklearn.model_selection import KFold,cross_val_score\n",
    "kfold1=KFold(10)\n",
    "scores=cross_val_score(regressor, X_test, y_test, cv=kfold1)\n",
    "print(scores)\n",
    "print (np.mean(scores))"
   ]
  },
  {
   "cell_type": "code",
   "execution_count": 337,
   "metadata": {},
   "outputs": [
    {
     "name": "stdout",
     "output_type": "stream",
     "text": [
      "[0.95216791 0.98883361 0.99529899 0.99728571 0.98572963 0.99016707\n",
      " 0.98326457 0.98685034 0.99467454 0.99218719]\n",
      "0.9866459563203765\n"
     ]
    }
   ],
   "source": [
    "from sklearn.model_selection import KFold,cross_val_score\n",
    "kfold1=KFold(10)\n",
    "scores=cross_val_score(stack_model, X_test, y_test, cv=kfold1)\n",
    "print(scores)\n",
    "print (np.mean(scores))"
   ]
  },
  {
   "cell_type": "code",
   "execution_count": 330,
   "metadata": {},
   "outputs": [
    {
     "name": "stdout",
     "output_type": "stream",
     "text": [
      "[0.99940033 0.99032343 0.97582177 0.96269139 0.95910588 0.98662468\n",
      " 0.99462549 0.96776188 0.98444538 0.98447544]\n",
      "0.9805275649786325\n"
     ]
    }
   ],
   "source": [
    "from sklearn.model_selection import KFold,cross_val_score\n",
    "kfold1=KFold(10)\n",
    "scores=cross_val_score(lr, X_val, y_val, cv=kfold1)\n",
    "print(scores)\n",
    "print (np.mean(scores))"
   ]
  },
  {
   "cell_type": "code",
   "execution_count": 338,
   "metadata": {},
   "outputs": [
    {
     "name": "stdout",
     "output_type": "stream",
     "text": [
      "[0.99940033 0.99032343 0.97582177 0.96269139 0.95910588 0.98662468\n",
      " 0.99462549 0.96776188 0.98444538 0.98447544]\n",
      "0.9805275649786325\n"
     ]
    }
   ],
   "source": [
    "from sklearn.model_selection import KFold,cross_val_score\n",
    "kfold1=KFold(10)\n",
    "scores=cross_val_score(lin2, X_val, y_val, cv=kfold1)\n",
    "print(scores)\n",
    "print (np.mean(scores))"
   ]
  },
  {
   "cell_type": "code",
   "execution_count": 343,
   "metadata": {},
   "outputs": [
    {
     "name": "stdout",
     "output_type": "stream",
     "text": [
      "[0.9307361  0.98167952 0.98331958 0.96797719 0.7690121  0.9604751\n",
      " 0.90795172 0.97600074 0.95179642 0.96344842 0.98797311 0.87621908\n",
      " 0.95681417 0.96038078 0.91791866]\n",
      "0.9394468465610405\n"
     ]
    }
   ],
   "source": [
    "from sklearn.model_selection import KFold,cross_val_score\n",
    "kfold1=KFold(15)\n",
    "scores=cross_val_score(regressor, X_val, y_val, cv=kfold1)\n",
    "print(scores)\n",
    "print (np.mean(scores))"
   ]
  },
  {
   "cell_type": "code",
   "execution_count": 349,
   "metadata": {},
   "outputs": [
    {
     "name": "stdout",
     "output_type": "stream",
     "text": [
      "[0.96689272 0.98385941 0.99158154 0.97433595 0.85384727 0.9713833\n",
      " 0.95100109 0.98483521 0.84487213 0.984152   0.99608322 0.96888333\n",
      " 0.97773644 0.98872231 0.98873493]\n",
      "0.9617947234309013\n"
     ]
    }
   ],
   "source": [
    "from sklearn.model_selection import KFold,cross_val_score\n",
    "kfold1=KFold(15)\n",
    "scores=cross_val_score(stack_model, X_val, y_val, cv=kfold1)\n",
    "print(scores)\n",
    "print (np.mean(scores))"
   ]
  },
  {
   "cell_type": "code",
   "execution_count": null,
   "metadata": {},
   "outputs": [],
   "source": []
  }
 ],
 "metadata": {
  "colab": {
   "authorship_tag": "ABX9TyPse40U7Ba+sbnpbRGdtxVp",
   "collapsed_sections": [],
   "mount_file_id": "1DWfOh5NyEui-mHDVz2EvE-I50fc3Yk4d",
   "name": "Final Steel Industry Energy Consumption DS Project .ipynb",
   "provenance": []
  },
  "kernelspec": {
   "display_name": "Python 3",
   "language": "python",
   "name": "python3"
  },
  "language_info": {
   "codemirror_mode": {
    "name": "ipython",
    "version": 3
   },
   "file_extension": ".py",
   "mimetype": "text/x-python",
   "name": "python",
   "nbconvert_exporter": "python",
   "pygments_lexer": "ipython3",
   "version": "3.8.8"
  }
 },
 "nbformat": 4,
 "nbformat_minor": 1
}
